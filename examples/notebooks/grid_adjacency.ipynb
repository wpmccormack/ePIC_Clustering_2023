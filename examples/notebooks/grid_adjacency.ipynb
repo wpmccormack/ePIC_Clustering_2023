{
 "cells": [
  {
   "cell_type": "markdown",
   "id": "67f5c0af",
   "metadata": {},
   "source": [
    "# Notebook 1: DBSCAN Example"
   ]
  },
  {
   "cell_type": "code",
   "execution_count": 1,
   "id": "b8e17fde",
   "metadata": {
    "tags": []
   },
   "outputs": [],
   "source": [
    "%load_ext autoreload\n",
    "%autoreload 2\n",
    "\n",
    "import numpy as np\n",
    "import os\n",
    "import seaborn as sns\n",
    "import pandas as pd\n",
    "from sklearn.cluster import DBSCAN\n",
    "import matplotlib.pyplot as plt\n",
    "\n",
    "from epic_clustering.scoring import weighted_v_score\n",
    "\n",
    "all_colors = ['Greys', 'Purples', 'Blues', 'Greens', 'Oranges', 'Reds',\n",
    "              'YlOrBr', 'YlOrRd', 'OrRd', 'PuRd', 'RdPu', 'BuPu',\n",
    "              'GnBu', 'PuBu', 'YlGnBu', 'PuBuGn', 'BuGn', 'YlGn']\n",
    "all_colors = all_colors*10"
   ]
  },
  {
   "cell_type": "code",
   "execution_count": 2,
   "id": "6f0525d7",
   "metadata": {
    "tags": []
   },
   "outputs": [],
   "source": [
    "import scipy.linalg as la\n",
    "import numpy as np"
   ]
  },
  {
   "cell_type": "code",
   "execution_count": 28,
   "id": "ddbc0aec",
   "metadata": {
    "tags": []
   },
   "outputs": [
    {
     "name": "stdout",
     "output_type": "stream",
     "text": [
      "CPU times: user 169 µs, sys: 248 µs, total: 417 µs\n",
      "Wall time: 378 µs\n"
     ]
    }
   ],
   "source": [
    "%%time\n",
    "offdi = la.circulant([0,1,0,0,1])\n",
    "I = np.eye(5)\n",
    "\n",
    "import matplotlib.pyplot as plt\n",
    "A = np.kron(offdi,I) + np.kron(I,offdi)"
   ]
  },
  {
   "cell_type": "code",
   "execution_count": 17,
   "id": "fa46a98c-95e7-4cf2-ae65-6360707cc39b",
   "metadata": {
    "tags": []
   },
   "outputs": [],
   "source": [
    "hits = np.array([[0, 0, 1, 1, 0], [0, 1, 1, 1, 0], [0, 0, 1, 1, 0], [0, 0, 1, 1, 1], [0, 0, 0, 1, 1]])"
   ]
  },
  {
   "cell_type": "code",
   "execution_count": 18,
   "id": "14fbe1eb-0237-4c14-9079-515271430565",
   "metadata": {
    "tags": []
   },
   "outputs": [
    {
     "data": {
      "image/png": "[encoded data removed]",
      "text/plain": [
       "<Figure size 480x480 with 1 Axes>"
      ]
     },
     "metadata": {},
     "output_type": "display_data"
    }
   ],
   "source": [
    "plt.matshow(hits)\n",
    "plt.show()"
   ]
  },
  {
   "cell_type": "code",
   "execution_count": 5,
   "id": "22a16ae2-8d44-4238-a277-2e97ca228a1c",
   "metadata": {
    "tags": []
   },
   "outputs": [],
   "source": [
    "import pandas as pd\n",
    "import itertools"
   ]
  },
  {
   "cell_type": "code",
   "execution_count": 19,
   "id": "6eb89e2a-23fa-425e-bfa8-7c5bda32a01b",
   "metadata": {
    "tags": []
   },
   "outputs": [],
   "source": [
    "all_combos = np.array(list(itertools.product(range(len(hits)), range(len(hits))))).T"
   ]
  },
  {
   "cell_type": "code",
   "execution_count": 20,
   "id": "646d9f32-40a6-45d4-8fc1-c5bad293fb96",
   "metadata": {
    "tags": []
   },
   "outputs": [
    {
     "data": {
      "text/plain": [
       "(2, 25)"
      ]
     },
     "execution_count": 20,
     "metadata": {},
     "output_type": "execute_result"
    }
   ],
   "source": [
    "all_combos.shape"
   ]
  },
  {
   "cell_type": "code",
   "execution_count": 21,
   "id": "2e92b8ce-4e81-4a6a-8c0d-88404d8dd44a",
   "metadata": {
    "tags": []
   },
   "outputs": [],
   "source": [
    "label_df = pd.DataFrame({\"row\": all_combos[0], \"col\": all_combos[1], \"label\": np.arange(all_combos.shape[1])})"
   ]
  },
  {
   "cell_type": "code",
   "execution_count": 23,
   "id": "eebf938a-3a65-4105-9316-003af1b25005",
   "metadata": {
    "tags": []
   },
   "outputs": [],
   "source": [
    "nonzero_entries = np.where(hits)"
   ]
  },
  {
   "cell_type": "code",
   "execution_count": 24,
   "id": "278efc27-11bc-4e48-8186-de2e6a88240f",
   "metadata": {
    "tags": []
   },
   "outputs": [],
   "source": [
    "hits_df = pd.DataFrame({\"row\": nonzero_entries[0], \"col\": nonzero_entries[1]})"
   ]
  },
  {
   "cell_type": "code",
   "execution_count": 25,
   "id": "b15d5ca7-df56-4c1f-9679-fc2c9de1748f",
   "metadata": {
    "tags": []
   },
   "outputs": [],
   "source": [
    "hits_df = hits_df.merge(label_df, on=[\"row\", \"col\"])"
   ]
  },
  {
   "cell_type": "code",
   "execution_count": 26,
   "id": "64bbed45-a42a-4ccc-921e-73fd0d9c20a0",
   "metadata": {
    "tags": []
   },
   "outputs": [
    {
     "data": {
      "text/html": [
       "<div>\n",
       "<style scoped>\n",
       "    .dataframe tbody tr th:only-of-type {\n",
       "        vertical-align: middle;\n",
       "    }\n",
       "\n",
       "    .dataframe tbody tr th {\n",
       "        vertical-align: top;\n",
       "    }\n",
       "\n",
       "    .dataframe thead th {\n",
       "        text-align: right;\n",
       "    }\n",
       "</style>\n",
       "<table border=\"1\" class=\"dataframe\">\n",
       "  <thead>\n",
       "    <tr style=\"text-align: right;\">\n",
       "      <th></th>\n",
       "      <th>row</th>\n",
       "      <th>col</th>\n",
       "      <th>label</th>\n",
       "    </tr>\n",
       "  </thead>\n",
       "  <tbody>\n",
       "    <tr>\n",
       "      <th>0</th>\n",
       "      <td>0</td>\n",
       "      <td>2</td>\n",
       "      <td>2</td>\n",
       "    </tr>\n",
       "    <tr>\n",
       "      <th>1</th>\n",
       "      <td>0</td>\n",
       "      <td>3</td>\n",
       "      <td>3</td>\n",
       "    </tr>\n",
       "    <tr>\n",
       "      <th>2</th>\n",
       "      <td>1</td>\n",
       "      <td>1</td>\n",
       "      <td>6</td>\n",
       "    </tr>\n",
       "    <tr>\n",
       "      <th>3</th>\n",
       "      <td>1</td>\n",
       "      <td>2</td>\n",
       "      <td>7</td>\n",
       "    </tr>\n",
       "    <tr>\n",
       "      <th>4</th>\n",
       "      <td>1</td>\n",
       "      <td>3</td>\n",
       "      <td>8</td>\n",
       "    </tr>\n",
       "    <tr>\n",
       "      <th>5</th>\n",
       "      <td>2</td>\n",
       "      <td>2</td>\n",
       "      <td>12</td>\n",
       "    </tr>\n",
       "    <tr>\n",
       "      <th>6</th>\n",
       "      <td>2</td>\n",
       "      <td>3</td>\n",
       "      <td>13</td>\n",
       "    </tr>\n",
       "    <tr>\n",
       "      <th>7</th>\n",
       "      <td>3</td>\n",
       "      <td>2</td>\n",
       "      <td>17</td>\n",
       "    </tr>\n",
       "    <tr>\n",
       "      <th>8</th>\n",
       "      <td>3</td>\n",
       "      <td>3</td>\n",
       "      <td>18</td>\n",
       "    </tr>\n",
       "    <tr>\n",
       "      <th>9</th>\n",
       "      <td>3</td>\n",
       "      <td>4</td>\n",
       "      <td>19</td>\n",
       "    </tr>\n",
       "    <tr>\n",
       "      <th>10</th>\n",
       "      <td>4</td>\n",
       "      <td>3</td>\n",
       "      <td>23</td>\n",
       "    </tr>\n",
       "    <tr>\n",
       "      <th>11</th>\n",
       "      <td>4</td>\n",
       "      <td>4</td>\n",
       "      <td>24</td>\n",
       "    </tr>\n",
       "  </tbody>\n",
       "</table>\n",
       "</div>"
      ],
      "text/plain": [
       "    row  col  label\n",
       "0     0    2      2\n",
       "1     0    3      3\n",
       "2     1    1      6\n",
       "3     1    2      7\n",
       "4     1    3      8\n",
       "5     2    2     12\n",
       "6     2    3     13\n",
       "7     3    2     17\n",
       "8     3    3     18\n",
       "9     3    4     19\n",
       "10    4    3     23\n",
       "11    4    4     24"
      ]
     },
     "execution_count": 26,
     "metadata": {},
     "output_type": "execute_result"
    }
   ],
   "source": [
    "hits_df"
   ]
  },
  {
   "cell_type": "code",
   "execution_count": 31,
   "id": "98b51356-1833-40da-844a-545855f063af",
   "metadata": {
    "tags": []
   },
   "outputs": [],
   "source": [
    "hits_vector = np.zeros(5**2)\n",
    "hits_vector[hits_df.label.values] = np.ones(len(hits_df))"
   ]
  },
  {
   "cell_type": "code",
   "execution_count": 32,
   "id": "f3fed8c0-3d71-4124-ae42-0af8b03f683b",
   "metadata": {
    "tags": []
   },
   "outputs": [],
   "source": [
    "adjacency = hits_vector * A"
   ]
  },
  {
   "cell_type": "code",
   "execution_count": 33,
   "id": "61859015-d5e7-4ef9-9403-8c94d4527d4a",
   "metadata": {
    "tags": []
   },
   "outputs": [
    {
     "data": {
      "text/plain": [
       "<matplotlib.image.AxesImage at 0x7f5db51fb490>"
      ]
     },
     "execution_count": 33,
     "metadata": {},
     "output_type": "execute_result"
    },
    {
     "data": {
      "image/png": "[encoded data removed]",
      "text/plain": [
       "<Figure size 480x480 with 1 Axes>"
      ]
     },
     "metadata": {},
     "output_type": "display_data"
    }
   ],
   "source": [
    "plt.matshow(adjacency)"
   ]
  },
  {
   "cell_type": "code",
   "execution_count": 34,
   "id": "74cff522-d6d9-461f-b2c4-31a0c945fc3a",
   "metadata": {
    "tags": []
   },
   "outputs": [],
   "source": [
    "from scipy.sparse.csgraph import connected_components"
   ]
  },
  {
   "cell_type": "code",
   "execution_count": null,
   "id": "b72e5c77-d3a0-4f3a-a229-64bfacd3e01b",
   "metadata": {},
   "outputs": [],
   "source": []
  },
  {
   "cell_type": "code",
   "execution_count": 67,
   "id": "c3ea598e-9d92-4162-ae7a-d1057b4bae70",
   "metadata": {
    "tags": []
   },
   "outputs": [
    {
     "data": {
      "text/plain": [
       "array([[0., 1., 0., ..., 0., 0., 0.],\n",
       "       [1., 0., 1., ..., 0., 0., 0.],\n",
       "       [0., 1., 0., ..., 0., 0., 0.],\n",
       "       ...,\n",
       "       [0., 0., 0., ..., 0., 1., 0.],\n",
       "       [0., 0., 0., ..., 1., 0., 1.],\n",
       "       [0., 0., 0., ..., 0., 1., 0.]])"
      ]
     },
     "execution_count": 67,
     "metadata": {},
     "output_type": "execute_result"
    }
   ],
   "source": [
    "A"
   ]
  },
  {
   "cell_type": "code",
   "execution_count": 29,
   "id": "0c4e5bf9-2710-4191-ac76-f6a9f3a45833",
   "metadata": {
    "tags": []
   },
   "outputs": [
    {
     "data": {
      "image/png": "[encoded data removed]",
      "text/plain": [
       "<Figure size 480x480 with 1 Axes>"
      ]
     },
     "metadata": {},
     "output_type": "display_data"
    }
   ],
   "source": [
    "plt.matshow(A)\n",
    "plt.show()"
   ]
  },
  {
   "cell_type": "code",
   "execution_count": 35,
   "id": "ca92f726-163e-41bf-a84a-a11b6c9c1193",
   "metadata": {
    "tags": []
   },
   "outputs": [
    {
     "name": "stdout",
     "output_type": "stream",
     "text": [
      "CPU times: user 2.63 ms, sys: 0 ns, total: 2.63 ms\n",
      "Wall time: 2.24 ms\n"
     ]
    }
   ],
   "source": [
    "%%time\n",
    "offdi = la.circulant([0,1,0,0,1])\n",
    "I = np.eye(100)\n",
    "\n",
    "import matplotlib.pyplot as plt\n",
    "A = np.kron(offdi,I) + np.kron(I,offdi)"
   ]
  },
  {
   "cell_type": "code",
   "execution_count": 36,
   "id": "3e949b37-a0f9-4037-91dd-1e9dc0212187",
   "metadata": {
    "tags": []
   },
   "outputs": [
    {
     "data": {
      "text/plain": [
       "(500, 500)"
      ]
     },
     "execution_count": 36,
     "metadata": {},
     "output_type": "execute_result"
    }
   ],
   "source": [
    "A.shape"
   ]
  },
  {
   "cell_type": "code",
   "execution_count": 37,
   "id": "b8c5eaac-4a5a-43e5-bfcc-ad00dd771a5f",
   "metadata": {
    "tags": []
   },
   "outputs": [],
   "source": [
    "hits = np.random.randint(0, 2, (100, 100))"
   ]
  },
  {
   "cell_type": "code",
   "execution_count": 38,
   "id": "5329c286-218d-490c-937f-4496f3828d28",
   "metadata": {
    "tags": []
   },
   "outputs": [],
   "source": [
    "all_combos = np.array(list(itertools.product(range(len(hits)), range(len(hits))))).T"
   ]
  },
  {
   "cell_type": "code",
   "execution_count": 39,
   "id": "36c1392f-e22c-44be-a536-e81c13624cd9",
   "metadata": {
    "tags": []
   },
   "outputs": [
    {
     "data": {
      "text/plain": [
       "(2, 10000)"
      ]
     },
     "execution_count": 39,
     "metadata": {},
     "output_type": "execute_result"
    }
   ],
   "source": [
    "all_combos.shape"
   ]
  },
  {
   "cell_type": "code",
   "execution_count": 55,
   "id": "3b61d586-0328-4884-abef-1c5b508f34ba",
   "metadata": {
    "tags": []
   },
   "outputs": [],
   "source": [
    "label_df = pd.DataFrame({\"row\": all_combos[0], \"col\": all_combos[1], \"label\": np.arange(all_combos.shape[1])})"
   ]
  },
  {
   "cell_type": "code",
   "execution_count": 56,
   "id": "811d7f9b-600c-4674-ae7d-376a7e9ae3b7",
   "metadata": {
    "tags": []
   },
   "outputs": [],
   "source": [
    "nonzero_entries = np.where(hits)"
   ]
  },
  {
   "cell_type": "code",
   "execution_count": 57,
   "id": "406b40db-0305-4739-a7b0-0cf548676996",
   "metadata": {
    "tags": []
   },
   "outputs": [],
   "source": [
    "hits_df = pd.DataFrame({\"row\": nonzero_entries[0], \"col\": nonzero_entries[1]})"
   ]
  },
  {
   "cell_type": "code",
   "execution_count": 58,
   "id": "4165811d-3ad7-4d7f-9279-f5e34efa8b9d",
   "metadata": {
    "tags": []
   },
   "outputs": [],
   "source": [
    "hits_df = hits_df.merge(label_df, on=[\"row\", \"col\"])"
   ]
  },
  {
   "cell_type": "code",
   "execution_count": 59,
   "id": "822ade7f-747f-492b-b51a-156c0118c046",
   "metadata": {
    "tags": []
   },
   "outputs": [
    {
     "data": {
      "text/html": [
       "<div>\n",
       "<style scoped>\n",
       "    .dataframe tbody tr th:only-of-type {\n",
       "        vertical-align: middle;\n",
       "    }\n",
       "\n",
       "    .dataframe tbody tr th {\n",
       "        vertical-align: top;\n",
       "    }\n",
       "\n",
       "    .dataframe thead th {\n",
       "        text-align: right;\n",
       "    }\n",
       "</style>\n",
       "<table border=\"1\" class=\"dataframe\">\n",
       "  <thead>\n",
       "    <tr style=\"text-align: right;\">\n",
       "      <th></th>\n",
       "      <th>row</th>\n",
       "      <th>col</th>\n",
       "      <th>label</th>\n",
       "    </tr>\n",
       "  </thead>\n",
       "  <tbody>\n",
       "    <tr>\n",
       "      <th>0</th>\n",
       "      <td>0</td>\n",
       "      <td>0</td>\n",
       "      <td>0</td>\n",
       "    </tr>\n",
       "    <tr>\n",
       "      <th>1</th>\n",
       "      <td>0</td>\n",
       "      <td>1</td>\n",
       "      <td>1</td>\n",
       "    </tr>\n",
       "    <tr>\n",
       "      <th>2</th>\n",
       "      <td>0</td>\n",
       "      <td>3</td>\n",
       "      <td>3</td>\n",
       "    </tr>\n",
       "    <tr>\n",
       "      <th>3</th>\n",
       "      <td>0</td>\n",
       "      <td>4</td>\n",
       "      <td>4</td>\n",
       "    </tr>\n",
       "    <tr>\n",
       "      <th>4</th>\n",
       "      <td>0</td>\n",
       "      <td>5</td>\n",
       "      <td>5</td>\n",
       "    </tr>\n",
       "    <tr>\n",
       "      <th>...</th>\n",
       "      <td>...</td>\n",
       "      <td>...</td>\n",
       "      <td>...</td>\n",
       "    </tr>\n",
       "    <tr>\n",
       "      <th>5005</th>\n",
       "      <td>99</td>\n",
       "      <td>90</td>\n",
       "      <td>9990</td>\n",
       "    </tr>\n",
       "    <tr>\n",
       "      <th>5006</th>\n",
       "      <td>99</td>\n",
       "      <td>92</td>\n",
       "      <td>9992</td>\n",
       "    </tr>\n",
       "    <tr>\n",
       "      <th>5007</th>\n",
       "      <td>99</td>\n",
       "      <td>94</td>\n",
       "      <td>9994</td>\n",
       "    </tr>\n",
       "    <tr>\n",
       "      <th>5008</th>\n",
       "      <td>99</td>\n",
       "      <td>98</td>\n",
       "      <td>9998</td>\n",
       "    </tr>\n",
       "    <tr>\n",
       "      <th>5009</th>\n",
       "      <td>99</td>\n",
       "      <td>99</td>\n",
       "      <td>9999</td>\n",
       "    </tr>\n",
       "  </tbody>\n",
       "</table>\n",
       "<p>5010 rows × 3 columns</p>\n",
       "</div>"
      ],
      "text/plain": [
       "      row  col  label\n",
       "0       0    0      0\n",
       "1       0    1      1\n",
       "2       0    3      3\n",
       "3       0    4      4\n",
       "4       0    5      5\n",
       "...   ...  ...    ...\n",
       "5005   99   90   9990\n",
       "5006   99   92   9992\n",
       "5007   99   94   9994\n",
       "5008   99   98   9998\n",
       "5009   99   99   9999\n",
       "\n",
       "[5010 rows x 3 columns]"
      ]
     },
     "execution_count": 59,
     "metadata": {},
     "output_type": "execute_result"
    }
   ],
   "source": [
    "hits_df"
   ]
  },
  {
   "cell_type": "code",
   "execution_count": 60,
   "id": "0c8fae1f-ac34-476c-b2f8-f696a9ff9c69",
   "metadata": {
    "tags": []
   },
   "outputs": [],
   "source": [
    "hits_vector = np.zeros(100**2)\n",
    "hits_vector[hits_df.label.values] = np.ones(len(hits_df))"
   ]
  },
  {
   "cell_type": "code",
   "execution_count": 61,
   "id": "8a7d2083-9c86-4972-a4be-cf4cb7e7f5ae",
   "metadata": {
    "tags": []
   },
   "outputs": [
    {
     "data": {
      "text/plain": [
       "(10000,)"
      ]
     },
     "execution_count": 61,
     "metadata": {},
     "output_type": "execute_result"
    }
   ],
   "source": [
    "hits_vector.shape"
   ]
  },
  {
   "cell_type": "code",
   "execution_count": 62,
   "id": "9c6405b9-e866-48df-9271-ebd4c754293f",
   "metadata": {
    "tags": []
   },
   "outputs": [
    {
     "data": {
      "text/plain": [
       "(1000, 1000)"
      ]
     },
     "execution_count": 62,
     "metadata": {},
     "output_type": "execute_result"
    }
   ],
   "source": [
    "A.shape"
   ]
  },
  {
   "cell_type": "code",
   "execution_count": 63,
   "id": "621a14a8-a076-421d-b6a6-19744bcb6457",
   "metadata": {
    "tags": []
   },
   "outputs": [
    {
     "ename": "ValueError",
     "evalue": "operands could not be broadcast together with shapes (10000,) (1000,1000) ",
     "output_type": "error",
     "traceback": [
      "\u001b[0;31m---------------------------------------------------------------------------\u001b[0m",
      "\u001b[0;31mValueError\u001b[0m                                Traceback (most recent call last)",
      "Cell \u001b[0;32mIn[63], line 1\u001b[0m\n\u001b[0;32m----> 1\u001b[0m adjacency \u001b[38;5;241m=\u001b[39m \u001b[43mhits_vector\u001b[49m\u001b[43m \u001b[49m\u001b[38;5;241;43m*\u001b[39;49m\u001b[43m \u001b[49m\u001b[43mA\u001b[49m\n",
      "\u001b[0;31mValueError\u001b[0m: operands could not be broadcast together with shapes (10000,) (1000,1000) "
     ]
    }
   ],
   "source": [
    "adjacency = hits_vector * A"
   ]
  },
  {
   "cell_type": "code",
   "execution_count": null,
   "id": "b9047d60-e32d-4328-b49f-973acfbc5028",
   "metadata": {},
   "outputs": [],
   "source": []
  },
  {
   "cell_type": "markdown",
   "id": "000bd117",
   "metadata": {},
   "source": [
    "## Roadmap\n",
    "\n",
    "Our plan is to load some data and try to cluster it with Density-Based Spatial Clustering of Applications with Noise (\"DBSCAN\")"
   ]
  },
  {
   "cell_type": "markdown",
   "id": "a9437ed8",
   "metadata": {},
   "source": [
    "## 1. Load a CSV file"
   ]
  },
  {
   "cell_type": "markdown",
   "id": "f1a7d927",
   "metadata": {},
   "source": [
    "First, we load one of the CSV files. The exact way you do this will differ between a local notebook and a Kaggle notebook."
   ]
  },
  {
   "cell_type": "code",
   "execution_count": 2,
   "id": "1c6e7f10",
   "metadata": {},
   "outputs": [],
   "source": [
    "input_dir = \"/global/cfs/cdirs/m3443/data/PowerWeek/train/train\"\n",
    "csv_files = [os.path.join(input_dir, f) for f in os.listdir(input_dir) if f.endswith('.csv')]"
   ]
  },
  {
   "cell_type": "code",
   "execution_count": 3,
   "id": "acc8272b",
   "metadata": {},
   "outputs": [],
   "source": [
    "events = pd.read_csv(csv_files[0])"
   ]
  },
  {
   "cell_type": "markdown",
   "id": "51ed2a5c",
   "metadata": {},
   "source": [
    "## 2. Initial Inspection"
   ]
  },
  {
   "cell_type": "markdown",
   "id": "b08a3a41",
   "metadata": {},
   "source": [
    "Let's examine the dataframe and see what is available."
   ]
  },
  {
   "cell_type": "code",
   "execution_count": 4,
   "id": "ee91de9d",
   "metadata": {},
   "outputs": [
    {
     "data": {
      "text/html": [
       "<div>\n",
       "<style scoped>\n",
       "    .dataframe tbody tr th:only-of-type {\n",
       "        vertical-align: middle;\n",
       "    }\n",
       "\n",
       "    .dataframe tbody tr th {\n",
       "        vertical-align: top;\n",
       "    }\n",
       "\n",
       "    .dataframe thead th {\n",
       "        text-align: right;\n",
       "    }\n",
       "</style>\n",
       "<table border=\"1\" class=\"dataframe\">\n",
       "  <thead>\n",
       "    <tr style=\"text-align: right;\">\n",
       "      <th></th>\n",
       "      <th>event</th>\n",
       "      <th>hit_number</th>\n",
       "      <th>N</th>\n",
       "      <th>E</th>\n",
       "      <th>T</th>\n",
       "      <th>ix</th>\n",
       "      <th>iy</th>\n",
       "      <th>iz</th>\n",
       "      <th>posx</th>\n",
       "      <th>posy</th>\n",
       "      <th>posz</th>\n",
       "      <th>clusterID</th>\n",
       "      <th>Efrac</th>\n",
       "      <th>uniqueID</th>\n",
       "    </tr>\n",
       "  </thead>\n",
       "  <tbody>\n",
       "    <tr>\n",
       "      <th>0</th>\n",
       "      <td>27000</td>\n",
       "      <td>0</td>\n",
       "      <td>1895</td>\n",
       "      <td>0.261049</td>\n",
       "      <td>17.51</td>\n",
       "      <td>82</td>\n",
       "      <td>60</td>\n",
       "      <td>0</td>\n",
       "      <td>117.543274</td>\n",
       "      <td>27.425</td>\n",
       "      <td>365.28</td>\n",
       "      <td>11509158343811193875</td>\n",
       "      <td>1.0</td>\n",
       "      <td>-6937585729898357741</td>\n",
       "    </tr>\n",
       "    <tr>\n",
       "      <th>1</th>\n",
       "      <td>27000</td>\n",
       "      <td>1</td>\n",
       "      <td>1895</td>\n",
       "      <td>1.218229</td>\n",
       "      <td>12.57</td>\n",
       "      <td>38</td>\n",
       "      <td>42</td>\n",
       "      <td>0</td>\n",
       "      <td>-82.629840</td>\n",
       "      <td>-62.575</td>\n",
       "      <td>363.28</td>\n",
       "      <td>17828652613631594586</td>\n",
       "      <td>1.0</td>\n",
       "      <td>-618091460077957030</td>\n",
       "    </tr>\n",
       "    <tr>\n",
       "      <th>2</th>\n",
       "      <td>27000</td>\n",
       "      <td>2</td>\n",
       "      <td>1895</td>\n",
       "      <td>0.983161</td>\n",
       "      <td>12.61</td>\n",
       "      <td>38</td>\n",
       "      <td>43</td>\n",
       "      <td>0</td>\n",
       "      <td>-82.629840</td>\n",
       "      <td>-67.425</td>\n",
       "      <td>365.28</td>\n",
       "      <td>17828652613631594586</td>\n",
       "      <td>1.0</td>\n",
       "      <td>5343361554445887269</td>\n",
       "    </tr>\n",
       "    <tr>\n",
       "      <th>3</th>\n",
       "      <td>27000</td>\n",
       "      <td>3</td>\n",
       "      <td>1895</td>\n",
       "      <td>0.404564</td>\n",
       "      <td>12.57</td>\n",
       "      <td>45</td>\n",
       "      <td>42</td>\n",
       "      <td>0</td>\n",
       "      <td>-77.370160</td>\n",
       "      <td>-62.575</td>\n",
       "      <td>361.28</td>\n",
       "      <td>17828652613631594586</td>\n",
       "      <td>1.0</td>\n",
       "      <td>-7175626205880516806</td>\n",
       "    </tr>\n",
       "    <tr>\n",
       "      <th>4</th>\n",
       "      <td>27000</td>\n",
       "      <td>4</td>\n",
       "      <td>1895</td>\n",
       "      <td>0.393017</td>\n",
       "      <td>13.46</td>\n",
       "      <td>39</td>\n",
       "      <td>43</td>\n",
       "      <td>1</td>\n",
       "      <td>-87.543280</td>\n",
       "      <td>-67.425</td>\n",
       "      <td>383.28</td>\n",
       "      <td>17828652613631594586</td>\n",
       "      <td>1.0</td>\n",
       "      <td>-3965530794151426912</td>\n",
       "    </tr>\n",
       "  </tbody>\n",
       "</table>\n",
       "</div>"
      ],
      "text/plain": [
       "   event  hit_number     N         E      T  ix  iy  iz        posx    posy  \\\n",
       "0  27000           0  1895  0.261049  17.51  82  60   0  117.543274  27.425   \n",
       "1  27000           1  1895  1.218229  12.57  38  42   0  -82.629840 -62.575   \n",
       "2  27000           2  1895  0.983161  12.61  38  43   0  -82.629840 -67.425   \n",
       "3  27000           3  1895  0.404564  12.57  45  42   0  -77.370160 -62.575   \n",
       "4  27000           4  1895  0.393017  13.46  39  43   1  -87.543280 -67.425   \n",
       "\n",
       "     posz             clusterID  Efrac             uniqueID  \n",
       "0  365.28  11509158343811193875    1.0 -6937585729898357741  \n",
       "1  363.28  17828652613631594586    1.0  -618091460077957030  \n",
       "2  365.28  17828652613631594586    1.0  5343361554445887269  \n",
       "3  361.28  17828652613631594586    1.0 -7175626205880516806  \n",
       "4  383.28  17828652613631594586    1.0 -3965530794151426912  "
      ]
     },
     "execution_count": 4,
     "metadata": {},
     "output_type": "execute_result"
    }
   ],
   "source": [
    "events.head()"
   ]
  },
  {
   "cell_type": "code",
   "execution_count": 5,
   "id": "82651ee6",
   "metadata": {},
   "outputs": [],
   "source": [
    "event = events[events['event'] == events.iloc[0]['event']]"
   ]
  },
  {
   "cell_type": "code",
   "execution_count": 6,
   "id": "3810a1a4",
   "metadata": {},
   "outputs": [
    {
     "data": {
      "image/png": "[encoded data removed]",
      "text/plain": [
       "<Figure size 640x480 with 1 Axes>"
      ]
     },
     "metadata": {},
     "output_type": "display_data"
    }
   ],
   "source": [
    "for i, particle in enumerate(event['clusterID'].unique()):\n",
    "    particle_df = event[event['clusterID'] == particle]\n",
    "    plt.scatter(particle_df['posx'], particle_df['posy'], label=f'Particle {i}', s=particle_df['E']**(1/2)*5)"
   ]
  },
  {
   "cell_type": "markdown",
   "id": "c17dddfd",
   "metadata": {},
   "source": [
    "## 3. Initial DBSCAN Exploration"
   ]
  },
  {
   "cell_type": "markdown",
   "id": "c5b1ce76",
   "metadata": {},
   "source": [
    "We saw in the EDA notebook, that in 2D, there are some clear clusters. Let's see if DBSCAN can find them."
   ]
  },
  {
   "cell_type": "code",
   "execution_count": 6,
   "id": "692e89fb",
   "metadata": {},
   "outputs": [
    {
     "data": {
      "text/html": [
       "<div>\n",
       "<style scoped>\n",
       "    .dataframe tbody tr th:only-of-type {\n",
       "        vertical-align: middle;\n",
       "    }\n",
       "\n",
       "    .dataframe tbody tr th {\n",
       "        vertical-align: top;\n",
       "    }\n",
       "\n",
       "    .dataframe thead th {\n",
       "        text-align: right;\n",
       "    }\n",
       "</style>\n",
       "<table border=\"1\" class=\"dataframe\">\n",
       "  <thead>\n",
       "    <tr style=\"text-align: right;\">\n",
       "      <th></th>\n",
       "      <th>event</th>\n",
       "      <th>hit_number</th>\n",
       "      <th>N</th>\n",
       "      <th>E</th>\n",
       "      <th>T</th>\n",
       "      <th>ix</th>\n",
       "      <th>iy</th>\n",
       "      <th>iz</th>\n",
       "      <th>posx</th>\n",
       "      <th>posy</th>\n",
       "      <th>posz</th>\n",
       "      <th>clusterID</th>\n",
       "      <th>Efrac</th>\n",
       "      <th>uniqueID</th>\n",
       "    </tr>\n",
       "  </thead>\n",
       "  <tbody>\n",
       "    <tr>\n",
       "      <th>0</th>\n",
       "      <td>27000</td>\n",
       "      <td>0</td>\n",
       "      <td>1895</td>\n",
       "      <td>0.261049</td>\n",
       "      <td>17.51</td>\n",
       "      <td>82</td>\n",
       "      <td>60</td>\n",
       "      <td>0</td>\n",
       "      <td>117.543274</td>\n",
       "      <td>27.425</td>\n",
       "      <td>365.28000</td>\n",
       "      <td>11509158343811193875</td>\n",
       "      <td>1.0</td>\n",
       "      <td>-6937585729898357741</td>\n",
       "    </tr>\n",
       "    <tr>\n",
       "      <th>1</th>\n",
       "      <td>27000</td>\n",
       "      <td>1</td>\n",
       "      <td>1895</td>\n",
       "      <td>1.218229</td>\n",
       "      <td>12.57</td>\n",
       "      <td>38</td>\n",
       "      <td>42</td>\n",
       "      <td>0</td>\n",
       "      <td>-82.629840</td>\n",
       "      <td>-62.575</td>\n",
       "      <td>363.28000</td>\n",
       "      <td>17828652613631594586</td>\n",
       "      <td>1.0</td>\n",
       "      <td>-618091460077957030</td>\n",
       "    </tr>\n",
       "    <tr>\n",
       "      <th>2</th>\n",
       "      <td>27000</td>\n",
       "      <td>2</td>\n",
       "      <td>1895</td>\n",
       "      <td>0.983161</td>\n",
       "      <td>12.61</td>\n",
       "      <td>38</td>\n",
       "      <td>43</td>\n",
       "      <td>0</td>\n",
       "      <td>-82.629840</td>\n",
       "      <td>-67.425</td>\n",
       "      <td>365.28000</td>\n",
       "      <td>17828652613631594586</td>\n",
       "      <td>1.0</td>\n",
       "      <td>5343361554445887269</td>\n",
       "    </tr>\n",
       "    <tr>\n",
       "      <th>3</th>\n",
       "      <td>27000</td>\n",
       "      <td>3</td>\n",
       "      <td>1895</td>\n",
       "      <td>0.404564</td>\n",
       "      <td>12.57</td>\n",
       "      <td>45</td>\n",
       "      <td>42</td>\n",
       "      <td>0</td>\n",
       "      <td>-77.370160</td>\n",
       "      <td>-62.575</td>\n",
       "      <td>361.28000</td>\n",
       "      <td>17828652613631594586</td>\n",
       "      <td>1.0</td>\n",
       "      <td>-7175626205880516806</td>\n",
       "    </tr>\n",
       "    <tr>\n",
       "      <th>4</th>\n",
       "      <td>27000</td>\n",
       "      <td>4</td>\n",
       "      <td>1895</td>\n",
       "      <td>0.393017</td>\n",
       "      <td>13.46</td>\n",
       "      <td>39</td>\n",
       "      <td>43</td>\n",
       "      <td>1</td>\n",
       "      <td>-87.543280</td>\n",
       "      <td>-67.425</td>\n",
       "      <td>383.28000</td>\n",
       "      <td>17828652613631594586</td>\n",
       "      <td>1.0</td>\n",
       "      <td>-3965530794151426912</td>\n",
       "    </tr>\n",
       "    <tr>\n",
       "      <th>...</th>\n",
       "      <td>...</td>\n",
       "      <td>...</td>\n",
       "      <td>...</td>\n",
       "      <td>...</td>\n",
       "      <td>...</td>\n",
       "      <td>...</td>\n",
       "      <td>...</td>\n",
       "      <td>...</td>\n",
       "      <td>...</td>\n",
       "      <td>...</td>\n",
       "      <td>...</td>\n",
       "      <td>...</td>\n",
       "      <td>...</td>\n",
       "      <td>...</td>\n",
       "    </tr>\n",
       "    <tr>\n",
       "      <th>1890</th>\n",
       "      <td>27000</td>\n",
       "      <td>1890</td>\n",
       "      <td>1895</td>\n",
       "      <td>0.001650</td>\n",
       "      <td>29.24</td>\n",
       "      <td>65</td>\n",
       "      <td>54</td>\n",
       "      <td>1</td>\n",
       "      <td>22.629840</td>\n",
       "      <td>-2.575</td>\n",
       "      <td>375.28000</td>\n",
       "      <td>12544480375981618535</td>\n",
       "      <td>1.0</td>\n",
       "      <td>-1052490910097309665</td>\n",
       "    </tr>\n",
       "    <tr>\n",
       "      <th>1891</th>\n",
       "      <td>27000</td>\n",
       "      <td>1891</td>\n",
       "      <td>1895</td>\n",
       "      <td>0.001650</td>\n",
       "      <td>21.49</td>\n",
       "      <td>63</td>\n",
       "      <td>64</td>\n",
       "      <td>0</td>\n",
       "      <td>12.629840</td>\n",
       "      <td>47.425</td>\n",
       "      <td>363.28000</td>\n",
       "      <td>12544480375981618535</td>\n",
       "      <td>1.0</td>\n",
       "      <td>8795265319944163564</td>\n",
       "    </tr>\n",
       "    <tr>\n",
       "      <th>1892</th>\n",
       "      <td>27000</td>\n",
       "      <td>1892</td>\n",
       "      <td>1895</td>\n",
       "      <td>0.001650</td>\n",
       "      <td>76.07</td>\n",
       "      <td>57</td>\n",
       "      <td>51</td>\n",
       "      <td>6</td>\n",
       "      <td>-17.370160</td>\n",
       "      <td>-27.425</td>\n",
       "      <td>471.27997</td>\n",
       "      <td>12544480375981618535</td>\n",
       "      <td>1.0</td>\n",
       "      <td>-5858943092489343794</td>\n",
       "    </tr>\n",
       "    <tr>\n",
       "      <th>1893</th>\n",
       "      <td>27000</td>\n",
       "      <td>1893</td>\n",
       "      <td>1895</td>\n",
       "      <td>0.001650</td>\n",
       "      <td>41.33</td>\n",
       "      <td>53</td>\n",
       "      <td>62</td>\n",
       "      <td>2</td>\n",
       "      <td>-37.370160</td>\n",
       "      <td>37.425</td>\n",
       "      <td>409.28000</td>\n",
       "      <td>12544480375981618535</td>\n",
       "      <td>1.0</td>\n",
       "      <td>-2881660248844868567</td>\n",
       "    </tr>\n",
       "    <tr>\n",
       "      <th>1894</th>\n",
       "      <td>27000</td>\n",
       "      <td>1894</td>\n",
       "      <td>1895</td>\n",
       "      <td>0.001650</td>\n",
       "      <td>36.91</td>\n",
       "      <td>40</td>\n",
       "      <td>68</td>\n",
       "      <td>1</td>\n",
       "      <td>-72.629840</td>\n",
       "      <td>67.425</td>\n",
       "      <td>373.28000</td>\n",
       "      <td>12544480375981618535</td>\n",
       "      <td>1.0</td>\n",
       "      <td>-2326073162940112744</td>\n",
       "    </tr>\n",
       "  </tbody>\n",
       "</table>\n",
       "<p>1895 rows × 14 columns</p>\n",
       "</div>"
      ],
      "text/plain": [
       "      event  hit_number     N         E      T  ix  iy  iz        posx  \\\n",
       "0     27000           0  1895  0.261049  17.51  82  60   0  117.543274   \n",
       "1     27000           1  1895  1.218229  12.57  38  42   0  -82.629840   \n",
       "2     27000           2  1895  0.983161  12.61  38  43   0  -82.629840   \n",
       "3     27000           3  1895  0.404564  12.57  45  42   0  -77.370160   \n",
       "4     27000           4  1895  0.393017  13.46  39  43   1  -87.543280   \n",
       "...     ...         ...   ...       ...    ...  ..  ..  ..         ...   \n",
       "1890  27000        1890  1895  0.001650  29.24  65  54   1   22.629840   \n",
       "1891  27000        1891  1895  0.001650  21.49  63  64   0   12.629840   \n",
       "1892  27000        1892  1895  0.001650  76.07  57  51   6  -17.370160   \n",
       "1893  27000        1893  1895  0.001650  41.33  53  62   2  -37.370160   \n",
       "1894  27000        1894  1895  0.001650  36.91  40  68   1  -72.629840   \n",
       "\n",
       "        posy       posz             clusterID  Efrac             uniqueID  \n",
       "0     27.425  365.28000  11509158343811193875    1.0 -6937585729898357741  \n",
       "1    -62.575  363.28000  17828652613631594586    1.0  -618091460077957030  \n",
       "2    -67.425  365.28000  17828652613631594586    1.0  5343361554445887269  \n",
       "3    -62.575  361.28000  17828652613631594586    1.0 -7175626205880516806  \n",
       "4    -67.425  383.28000  17828652613631594586    1.0 -3965530794151426912  \n",
       "...      ...        ...                   ...    ...                  ...  \n",
       "1890  -2.575  375.28000  12544480375981618535    1.0 -1052490910097309665  \n",
       "1891  47.425  363.28000  12544480375981618535    1.0  8795265319944163564  \n",
       "1892 -27.425  471.27997  12544480375981618535    1.0 -5858943092489343794  \n",
       "1893  37.425  409.28000  12544480375981618535    1.0 -2881660248844868567  \n",
       "1894  67.425  373.28000  12544480375981618535    1.0 -2326073162940112744  \n",
       "\n",
       "[1895 rows x 14 columns]"
      ]
     },
     "execution_count": 6,
     "metadata": {},
     "output_type": "execute_result"
    }
   ],
   "source": [
    "event"
   ]
  },
  {
   "cell_type": "code",
   "execution_count": 20,
   "id": "dd6b8694",
   "metadata": {},
   "outputs": [],
   "source": [
    "dbscan = DBSCAN(eps=30, min_samples=1)\n",
    "labels = dbscan.fit_predict(event[['posx', 'posy']])"
   ]
  },
  {
   "cell_type": "code",
   "execution_count": 21,
   "id": "d8678605",
   "metadata": {},
   "outputs": [
    {
     "data": {
      "text/plain": [
       "array([0, 1, 2, 3, 4])"
      ]
     },
     "execution_count": 21,
     "metadata": {},
     "output_type": "execute_result"
    }
   ],
   "source": [
    "np.unique(labels)"
   ]
  },
  {
   "cell_type": "code",
   "execution_count": 22,
   "id": "e032022e",
   "metadata": {},
   "outputs": [
    {
     "name": "stdout",
     "output_type": "stream",
     "text": [
      "Homogeneity: 0.2781951886508424 \n",
      "Completeness: 0.998583386850256 \n",
      "V-Score: 0.4351593910155882\n"
     ]
    }
   ],
   "source": [
    "homogeneity, completeness, vscore = weighted_v_score(labels_true=event['clusterID'], labels_pred=labels, labels_weight=event['E'])\n",
    "print(f\"Homogeneity: {homogeneity} \\nCompleteness: {completeness} \\nV-Score: {vscore}\")"
   ]
  },
  {
   "cell_type": "markdown",
   "id": "15cf8d9a",
   "metadata": {},
   "source": [
    "## 4. Optimize DBSCAN"
   ]
  },
  {
   "cell_type": "markdown",
   "id": "aebbed2f",
   "metadata": {},
   "source": [
    "Let's scan across a range of eps and min_samples values to find the best DBSCAN clustering."
   ]
  },
  {
   "cell_type": "code",
   "execution_count": 40,
   "id": "0b1b2127",
   "metadata": {},
   "outputs": [
    {
     "name": "stdout",
     "output_type": "stream",
     "text": [
      "Best V-Score: 0.5840052020463562 \n",
      "Best eps: 1 \n",
      "Best min_samples: 1\n",
      "Best V-Score: 0.6921833131231223 \n",
      "Best eps: 5 \n",
      "Best min_samples: 1\n",
      "Best V-Score: 0.7240823442329039 \n",
      "Best eps: 6 \n",
      "Best min_samples: 1\n",
      "Best V-Score: 0.7252040254126332 \n",
      "Best eps: 7 \n",
      "Best min_samples: 1\n",
      "Best V-Score: 0.7301829626039441 \n",
      "Best eps: 8 \n",
      "Best min_samples: 1\n",
      "Best V-Score: 0.7303141671123154 \n",
      "Best eps: 10 \n",
      "Best min_samples: 1\n",
      "Best V-Score: 0.7307977607790653 \n",
      "Best eps: 11 \n",
      "Best min_samples: 1\n",
      "Best V-Score: 0.7324514269150434 \n",
      "Best eps: 12 \n",
      "Best min_samples: 1\n"
     ]
    }
   ],
   "source": [
    "best_score = 0\n",
    "best_eps = 0\n",
    "best_min_samples = 0\n",
    "best_labels = None\n",
    "for eps in range(1, 40):\n",
    "    for min_samples in range(1, 5):\n",
    "        dbscan = DBSCAN(eps=eps, min_samples=min_samples)\n",
    "        labels = dbscan.fit_predict(event[['posx', 'posy']])\n",
    "        homogeneity, completeness, vscore = weighted_v_score(labels_true=event['clusterID'], labels_pred=labels, labels_weight=event['E'])\n",
    "        if vscore > best_score:\n",
    "            best_score = vscore\n",
    "            best_eps = eps\n",
    "            best_min_samples = min_samples\n",
    "            best_labels = labels\n",
    "            print(f\"Best V-Score: {best_score} \\nBest eps: {best_eps} \\nBest min_samples: {best_min_samples}\")"
   ]
  },
  {
   "cell_type": "code",
   "execution_count": 44,
   "id": "f33beee5",
   "metadata": {},
   "outputs": [
    {
     "data": {
      "text/plain": [
       "array([ 0,  1,  2,  3,  4,  5,  6,  7,  8,  9, 10, 11, 12, 13, 14, 15, 16,\n",
       "       17, 18, 19, 20, 21, 22, 23, 24, 25, 26, 27, 28, 29, 30, 31, 32, 33,\n",
       "       34, 35, 36, 37, 38])"
      ]
     },
     "execution_count": 44,
     "metadata": {},
     "output_type": "execute_result"
    }
   ],
   "source": [
    "np.unique(best_labels)"
   ]
  },
  {
   "cell_type": "markdown",
   "id": "250af28d",
   "metadata": {},
   "source": [
    "So we have a best V-score of 0.73 at an eps=12, min_samples=1. Let's see what that looks like."
   ]
  },
  {
   "cell_type": "code",
   "execution_count": 59,
   "id": "8b99fb7f",
   "metadata": {},
   "outputs": [
    {
     "name": "stderr",
     "output_type": "stream",
     "text": [
      "/tmp/ipykernel_1877156/1688689302.py:1: SettingWithCopyWarning: \n",
      "A value is trying to be set on a copy of a slice from a DataFrame.\n",
      "Try using .loc[row_indexer,col_indexer] = value instead\n",
      "\n",
      "See the caveats in the documentation: https://pandas.pydata.org/pandas-docs/stable/user_guide/indexing.html#returning-a-view-versus-a-copy\n",
      "  event['labels'] = best_labels\n"
     ]
    },
    {
     "data": {
      "image/png": "[encoded data removed]",
      "text/plain": [
       "<Figure size 640x480 with 1 Axes>"
      ]
     },
     "metadata": {},
     "output_type": "display_data"
    }
   ],
   "source": [
    "event['labels'] = best_labels\n",
    "# Plot clusters with label colors\n",
    "for i, label in enumerate(np.unique(best_labels)):\n",
    "    plt.scatter(event[event['labels'] == label]['posx'], event[event['labels'] == label]['posy'],  label=f'Cluster {i}', s=event[event['labels'] == label]['E']**(1/2)*5)"
   ]
  },
  {
   "cell_type": "markdown",
   "id": "2f6e4cac",
   "metadata": {},
   "source": [
    "## 4. Explore Energy-weighted DBSCAN"
   ]
  },
  {
   "cell_type": "code",
   "execution_count": 62,
   "id": "4e00b603",
   "metadata": {},
   "outputs": [
    {
     "name": "stdout",
     "output_type": "stream",
     "text": [
      "Best V-Score: 0.4996546459656723 \n",
      "Best eps: 1 \n",
      "Best min_samples: 1\n",
      "Best V-Score: 0.6589145663197926 \n",
      "Best eps: 5 \n",
      "Best min_samples: 1\n",
      "Best V-Score: 0.7524823733986102 \n",
      "Best eps: 6 \n",
      "Best min_samples: 1\n",
      "Best V-Score: 0.762408890419704 \n",
      "Best eps: 7 \n",
      "Best min_samples: 1\n",
      "Best V-Score: 0.7714197568132614 \n",
      "Best eps: 8 \n",
      "Best min_samples: 1\n",
      "Best V-Score: 0.7762954968164965 \n",
      "Best eps: 10 \n",
      "Best min_samples: 1\n",
      "Best V-Score: 0.7843550856385034 \n",
      "Best eps: 11 \n",
      "Best min_samples: 2\n",
      "Best V-Score: 0.8004256121002749 \n",
      "Best eps: 12 \n",
      "Best min_samples: 2\n",
      "Best V-Score: 0.811513399200797 \n",
      "Best eps: 15 \n",
      "Best min_samples: 2\n",
      "Best V-Score: 0.8160218673448564 \n",
      "Best eps: 18 \n",
      "Best min_samples: 4\n",
      "Best V-Score: 0.8163573580453676 \n",
      "Best eps: 18 \n",
      "Best min_samples: 5\n"
     ]
    }
   ],
   "source": [
    "best_score = 0\n",
    "best_eps = 0\n",
    "best_min_samples = 0\n",
    "best_labels = None\n",
    "for eps in range(1, 40):\n",
    "    for min_samples in range(1, 10):\n",
    "        dbscan = DBSCAN(eps=eps, min_samples=min_samples)\n",
    "        labels = dbscan.fit_predict(event[['posx', 'posy']], sample_weight=event['E'])\n",
    "        homogeneity, completeness, vscore = weighted_v_score(labels_true=event['clusterID'], labels_pred=labels, labels_weight=event['E'])\n",
    "        if vscore > best_score:\n",
    "            best_score = vscore\n",
    "            best_eps = eps\n",
    "            best_min_samples = min_samples\n",
    "            best_labels = labels\n",
    "            print(f\"Best V-Score: {best_score} \\nBest eps: {best_eps} \\nBest min_samples: {best_min_samples}\")"
   ]
  },
  {
   "cell_type": "code",
   "execution_count": 63,
   "id": "2f057f5b",
   "metadata": {},
   "outputs": [
    {
     "name": "stderr",
     "output_type": "stream",
     "text": [
      "/tmp/ipykernel_1877156/1688689302.py:1: SettingWithCopyWarning: \n",
      "A value is trying to be set on a copy of a slice from a DataFrame.\n",
      "Try using .loc[row_indexer,col_indexer] = value instead\n",
      "\n",
      "See the caveats in the documentation: https://pandas.pydata.org/pandas-docs/stable/user_guide/indexing.html#returning-a-view-versus-a-copy\n",
      "  event['labels'] = best_labels\n"
     ]
    },
    {
     "data": {
      "image/png": "[encoded data removed]",
      "text/plain": [
       "<Figure size 640x480 with 1 Axes>"
      ]
     },
     "metadata": {},
     "output_type": "display_data"
    }
   ],
   "source": [
    "event['labels'] = best_labels\n",
    "# Plot clusters with label colors\n",
    "for i, label in enumerate(np.unique(best_labels)):\n",
    "    plt.scatter(event[event['labels'] == label]['posx'], event[event['labels'] == label]['posy'],  label=f'Cluster {i}', s=event[event['labels'] == label]['E']**(1/2)*5)"
   ]
  },
  {
   "cell_type": "markdown",
   "id": "1ec7bad0",
   "metadata": {},
   "source": [
    "We see that the large central cluster, which the vanilla DBSCAN failed to split, has now been handled much better."
   ]
  },
  {
   "cell_type": "markdown",
   "id": "587c2ea5",
   "metadata": {},
   "source": [
    "## 5. 3D Energy-weighted DBSCAN"
   ]
  },
  {
   "cell_type": "markdown",
   "id": "532ac42f",
   "metadata": {},
   "source": [
    "This works really nicely in 2D. Recall that the 3D image is less clear - can DBSCAN make sense of it?"
   ]
  },
  {
   "cell_type": "code",
   "execution_count": 64,
   "id": "d6b00b0d",
   "metadata": {},
   "outputs": [
    {
     "name": "stdout",
     "output_type": "stream",
     "text": [
      "Best V-Score: 0.42026814804759416 \n",
      "Best eps: 1 \n",
      "Best min_samples: 1\n",
      "Best V-Score: 0.4246444088214579 \n",
      "Best eps: 2 \n",
      "Best min_samples: 1\n",
      "Best V-Score: 0.42768589935103146 \n",
      "Best eps: 4 \n",
      "Best min_samples: 1\n",
      "Best V-Score: 0.46392543068483527 \n",
      "Best eps: 5 \n",
      "Best min_samples: 1\n",
      "Best V-Score: 0.5459947735991724 \n",
      "Best eps: 6 \n",
      "Best min_samples: 1\n",
      "Best V-Score: 0.6003313574800141 \n",
      "Best eps: 7 \n",
      "Best min_samples: 1\n",
      "Best V-Score: 0.6801025224205562 \n",
      "Best eps: 8 \n",
      "Best min_samples: 1\n",
      "Best V-Score: 0.6974173934720512 \n",
      "Best eps: 9 \n",
      "Best min_samples: 1\n",
      "Best V-Score: 0.7530856500355941 \n",
      "Best eps: 10 \n",
      "Best min_samples: 1\n",
      "Best V-Score: 0.7648164271744547 \n",
      "Best eps: 11 \n",
      "Best min_samples: 1\n",
      "Best V-Score: 0.7673073509548114 \n",
      "Best eps: 13 \n",
      "Best min_samples: 1\n",
      "Best V-Score: 0.7946821183099301 \n",
      "Best eps: 13 \n",
      "Best min_samples: 2\n",
      "Best V-Score: 0.8050939722189437 \n",
      "Best eps: 14 \n",
      "Best min_samples: 2\n",
      "Best V-Score: 0.8132636378226669 \n",
      "Best eps: 17 \n",
      "Best min_samples: 1\n",
      "Best V-Score: 0.8191093825034189 \n",
      "Best eps: 18 \n",
      "Best min_samples: 1\n"
     ]
    }
   ],
   "source": [
    "best_score = 0\n",
    "best_eps = 0\n",
    "best_min_samples = 0\n",
    "best_labels = None\n",
    "for eps in range(1, 40):\n",
    "    for min_samples in range(1, 10):\n",
    "        dbscan = DBSCAN(eps=eps, min_samples=min_samples)\n",
    "        labels = dbscan.fit_predict(event[['posx', 'posy', 'posz']], sample_weight=event['E'])\n",
    "        homogeneity, completeness, vscore = weighted_v_score(labels_true=event['clusterID'], labels_pred=labels, labels_weight=event['E'])\n",
    "        if vscore > best_score:\n",
    "            best_score = vscore\n",
    "            best_eps = eps\n",
    "            best_min_samples = min_samples\n",
    "            best_labels = labels\n",
    "            print(f\"Best V-Score: {best_score} \\nBest eps: {best_eps} \\nBest min_samples: {best_min_samples}\")"
   ]
  },
  {
   "cell_type": "code",
   "execution_count": 65,
   "id": "8296cda2",
   "metadata": {},
   "outputs": [
    {
     "name": "stderr",
     "output_type": "stream",
     "text": [
      "/tmp/ipykernel_1877156/1688689302.py:1: SettingWithCopyWarning: \n",
      "A value is trying to be set on a copy of a slice from a DataFrame.\n",
      "Try using .loc[row_indexer,col_indexer] = value instead\n",
      "\n",
      "See the caveats in the documentation: https://pandas.pydata.org/pandas-docs/stable/user_guide/indexing.html#returning-a-view-versus-a-copy\n",
      "  event['labels'] = best_labels\n"
     ]
    },
    {
     "data": {
      "image/png": "[encoded data removed]",
      "text/plain": [
       "<Figure size 640x480 with 1 Axes>"
      ]
     },
     "metadata": {},
     "output_type": "display_data"
    }
   ],
   "source": [
    "event['labels'] = best_labels\n",
    "# Plot clusters with label colors\n",
    "for i, label in enumerate(np.unique(best_labels)):\n",
    "    plt.scatter(event[event['labels'] == label]['posx'], event[event['labels'] == label]['posy'],  label=f'Cluster {i}', s=event[event['labels'] == label]['E']**(1/2)*5)"
   ]
  },
  {
   "cell_type": "markdown",
   "id": "47fc4d27",
   "metadata": {},
   "source": [
    "3D DBSCAN **slightly** beats out 2D DBSCAN. This is an encouraging sign that if we can figure out how to handle the extra features (z, E, T) correctly, we should be able to out-do the 2D clustering."
   ]
  },
  {
   "cell_type": "markdown",
   "id": "78706a9a",
   "metadata": {},
   "source": [
    "## 6. 4D DBSCAN"
   ]
  },
  {
   "cell_type": "markdown",
   "id": "dfb7e933",
   "metadata": {},
   "source": [
    "Why not?"
   ]
  },
  {
   "cell_type": "code",
   "execution_count": 68,
   "id": "27c6152b",
   "metadata": {},
   "outputs": [
    {
     "name": "stdout",
     "output_type": "stream",
     "text": [
      "Best V-Score: 0.42026814804759416 \n",
      "Best eps: 1 \n",
      "Best min_samples: 1\n",
      "Best V-Score: 0.4239426983270138 \n",
      "Best eps: 3 \n",
      "Best min_samples: 1\n",
      "Best V-Score: 0.459720279579115 \n",
      "Best eps: 5 \n",
      "Best min_samples: 1\n",
      "Best V-Score: 0.5332050367927706 \n",
      "Best eps: 6 \n",
      "Best min_samples: 1\n",
      "Best V-Score: 0.5957537762428592 \n",
      "Best eps: 7 \n",
      "Best min_samples: 1\n",
      "Best V-Score: 0.6657937712235181 \n",
      "Best eps: 8 \n",
      "Best min_samples: 1\n",
      "Best V-Score: 0.6903133956911144 \n",
      "Best eps: 9 \n",
      "Best min_samples: 1\n",
      "Best V-Score: 0.7404138998013252 \n",
      "Best eps: 10 \n",
      "Best min_samples: 1\n",
      "Best V-Score: 0.7547196870627454 \n",
      "Best eps: 11 \n",
      "Best min_samples: 1\n",
      "Best V-Score: 0.7583255364178494 \n",
      "Best eps: 12 \n",
      "Best min_samples: 1\n",
      "Best V-Score: 0.7848018450146412 \n",
      "Best eps: 13 \n",
      "Best min_samples: 1\n",
      "Best V-Score: 0.7935756936260224 \n",
      "Best eps: 14 \n",
      "Best min_samples: 1\n",
      "Best V-Score: 0.7972581352611349 \n",
      "Best eps: 18 \n",
      "Best min_samples: 1\n",
      "Best V-Score: 0.8008145457130863 \n",
      "Best eps: 20 \n",
      "Best min_samples: 1\n"
     ]
    }
   ],
   "source": [
    "best_score = 0\n",
    "best_eps = 0\n",
    "best_min_samples = 0\n",
    "best_labels = None\n",
    "for eps in range(1, 40):\n",
    "    for min_samples in range(1, 10):\n",
    "        dbscan = DBSCAN(eps=eps, min_samples=min_samples)\n",
    "        labels = dbscan.fit_predict(event[['posx', 'posy', 'posz', 'T']], sample_weight=event['E'])\n",
    "        homogeneity, completeness, vscore = weighted_v_score(labels_true=event['clusterID'], labels_pred=labels, labels_weight=event['E'])\n",
    "        if vscore > best_score:\n",
    "            best_score = vscore\n",
    "            best_eps = eps\n",
    "            best_min_samples = min_samples\n",
    "            best_labels = labels\n",
    "            print(f\"Best V-Score: {best_score} \\nBest eps: {best_eps} \\nBest min_samples: {best_min_samples}\")"
   ]
  },
  {
   "cell_type": "markdown",
   "id": "d967f864",
   "metadata": {},
   "source": [
    "Interestingly, time just confuses this issue, when using an unsupervised clustering algorithm. Hopefully we can use it somehow with a supervised method..."
   ]
  }
 ],
 "metadata": {
  "kernelspec": {
   "display_name": "PowerWeek",
   "language": "python",
   "name": "powerweek"
  },
  "language_info": {
   "codemirror_mode": {
    "name": "ipython",
    "version": 3
   },
   "file_extension": ".py",
   "mimetype": "text/x-python",
   "name": "python",
   "nbconvert_exporter": "python",
   "pygments_lexer": "ipython3",
   "version": "3.11.3"
  }
 },
 "nbformat": 4,
 "nbformat_minor": 5
}
