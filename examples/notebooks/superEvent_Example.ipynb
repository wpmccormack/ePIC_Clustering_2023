{
 "cells": [
  {
   "cell_type": "code",
   "execution_count": 1,
   "id": "b3d64d10",
   "metadata": {},
   "outputs": [],
   "source": [
    "import uproot\n",
    "import numpy as np\n",
    "import sys\n",
    "\n",
    "sys.path.insert(0, '..')\n",
    "from superEvent import superEvent"
   ]
  },
  {
   "cell_type": "code",
   "execution_count": 2,
   "id": "97a51612",
   "metadata": {},
   "outputs": [],
   "source": [
    "import matplotlib.pyplot as plt"
   ]
  },
  {
   "cell_type": "code",
   "execution_count": 8,
   "id": "4fc0f368",
   "metadata": {},
   "outputs": [],
   "source": [
    "file1 = uproot.open('../merged_tree_Hannahchanges_20230615.root')\n",
    "tree1 = file1['event_tree']\n",
    "branches1 = tree1.arrays()"
   ]
  },
  {
   "cell_type": "code",
   "execution_count": 25,
   "id": "488e8818",
   "metadata": {},
   "outputs": [
    {
     "name": "stdout",
     "output_type": "stream",
     "text": [
      "0\n",
      "100\n",
      "200\n",
      "300\n",
      "400\n",
      "500\n",
      "600\n",
      "700\n",
      "800\n",
      "900\n",
      "1000\n"
     ]
    }
   ],
   "source": [
    "#In a sample consisting of 2 particles per event, this takes me about 100 seconds (10 events per second) on my macbook\n",
    "diffs = []\n",
    "for ev in range(1001):\n",
    "    if(ev%100 == 0):\n",
    "        print(ev)\n",
    "    testev = superEvent(ev, branches1)\n",
    "    diffs += testev.diffs"
   ]
  },
  {
   "cell_type": "code",
   "execution_count": 10,
   "id": "d1e42065",
   "metadata": {},
   "outputs": [
    {
     "data": {
      "image/png": "[encoded data removed]",
      "text/plain": [
       "<Figure size 432x288 with 1 Axes>"
      ]
     },
     "metadata": {
      "needs_background": "light"
     },
     "output_type": "display_data"
    }
   ],
   "source": [
    "test = plt.hist(diffs, bins = 50, range=[-1,2])"
   ]
  },
  {
   "cell_type": "code",
   "execution_count": 23,
   "id": "96898745",
   "metadata": {},
   "outputs": [
    {
     "name": "stdout",
     "output_type": "stream",
     "text": [
      "38.03566100161947 -43.537318409570126 -53.14752116328707 397.4390348658607\n"
     ]
    },
    {
     "data": {
      "image/png": "[encoded data removed]",
      "text/plain": [
       "<Figure size 432x288 with 1 Axes>"
      ]
     },
     "metadata": {
      "needs_background": "light"
     },
     "output_type": "display_data"
    },
    {
     "name": "stdout",
     "output_type": "stream",
     "text": [
      "22.876600115397416 5.9147903830154815 -44.289463547276384 372.33547591985445\n"
     ]
    },
    {
     "data": {
      "image/png": "[encoded data removed]",
      "text/plain": [
       "<Figure size 432x288 with 1 Axes>"
      ]
     },
     "metadata": {
      "needs_background": "light"
     },
     "output_type": "display_data"
    }
   ],
   "source": [
    "\"\"\"\n",
    "Visualize two clusters.  In this instance, I know that event 60 has two nearby clusters\n",
    "This is a bit of an illustration of why I might want to add in cluster pruning\n",
    "to get rid of the \"ghost\" cluster components underneath the other clusters\n",
    "In any case, you can compare the energy and position information with the next cell\n",
    "and see that the reco clusters *are* pretty similar to the truth ones\n",
    "\"\"\"\n",
    "testev = superEvent(60, branches1)\n",
    "c=0\n",
    "print(testev.multiDepthClusters[c].energy,\n",
    "      testev.multiDepthClusters[c].posx,\n",
    "      testev.multiDepthClusters[c].posy,\n",
    "      testev.multiDepthClusters[c].posz)\n",
    "test2 = plt.hist2d(list(testev.tower_LFHCAL_posx[testev.multiDepthClusters[c].hitIndices]),\n",
    "                   list(testev.tower_LFHCAL_posy[testev.multiDepthClusters[c].hitIndices]),\n",
    "                   weights=list(testev.multiDepthClusters[c].hitFracs),\n",
    "                   bins=[120,120], range=[[-300, 300], [-300, 300]])\n",
    "plt.show()\n",
    "c=1\n",
    "print(testev.multiDepthClusters[c].energy,\n",
    "      testev.multiDepthClusters[c].posx,\n",
    "      testev.multiDepthClusters[c].posy,\n",
    "      testev.multiDepthClusters[c].posz)\n",
    "test3 = plt.hist2d(list(testev.tower_LFHCAL_posx[testev.multiDepthClusters[c].hitIndices]),\n",
    "                   list(testev.tower_LFHCAL_posy[testev.multiDepthClusters[c].hitIndices]),\n",
    "                   weights=list(testev.multiDepthClusters[c].hitFracs),\n",
    "                   bins=[120,120], range=[[-300, 300], [-300, 300]])"
   ]
  },
  {
   "cell_type": "code",
   "execution_count": 22,
   "id": "7cacacfb",
   "metadata": {},
   "outputs": [
    {
     "name": "stdout",
     "output_type": "stream",
     "text": [
      "37.84757009916939 -46.965807239102816 -53.362704596027946 397.954259381409\n"
     ]
    },
    {
     "data": {
      "image/png": "[encoded data removed]",
      "text/plain": [
       "<Figure size 432x288 with 1 Axes>"
      ]
     },
     "metadata": {
      "needs_background": "light"
     },
     "output_type": "display_data"
    },
    {
     "name": "stdout",
     "output_type": "stream",
     "text": [
      "24.399628811283037 9.19245514443251 -44.05701187607595 375.90185858142365\n"
     ]
    },
    {
     "data": {
      "image/png": "[encoded data removed]",
      "text/plain": [
       "<Figure size 432x288 with 1 Axes>"
      ]
     },
     "metadata": {
      "needs_background": "light"
     },
     "output_type": "display_data"
    }
   ],
   "source": [
    "c=0\n",
    "print(testev.truthClusters[c].energy,\n",
    "      testev.truthClusters[c].posx,\n",
    "      testev.truthClusters[c].posy,\n",
    "      testev.truthClusters[c].posz)\n",
    "test2 = plt.hist2d(list(testev.tower_LFHCAL_posx[testev.truthClusters[c].hitIndices]),\n",
    "                   list(testev.tower_LFHCAL_posy[testev.truthClusters[c].hitIndices]),\n",
    "                   weights=list(testev.truthClusters[c].hitFracs),\n",
    "                   bins=[120,120], range=[[-300, 300], [-300, 300]])\n",
    "plt.show()\n",
    "c=1\n",
    "print(testev.truthClusters[c].energy,\n",
    "      testev.truthClusters[c].posx,\n",
    "      testev.truthClusters[c].posy,\n",
    "      testev.truthClusters[c].posz)\n",
    "test3 = plt.hist2d(list(testev.tower_LFHCAL_posx[testev.truthClusters[c].hitIndices]),\n",
    "                   list(testev.tower_LFHCAL_posy[testev.truthClusters[c].hitIndices]),\n",
    "                   weights=list(testev.truthClusters[c].hitFracs),\n",
    "                   bins=[120,120], range=[[-300, 300], [-300, 300]])"
   ]
  },
  {
   "cell_type": "code",
   "execution_count": null,
   "id": "2ba20a57",
   "metadata": {},
   "outputs": [],
   "source": []
  },
  {
   "cell_type": "code",
   "execution_count": null,
   "id": "22e6cc70",
   "metadata": {},
   "outputs": [],
   "source": []
  },
  {
   "cell_type": "code",
   "execution_count": 27,
   "id": "43a449ce",
   "metadata": {},
   "outputs": [
    {
     "name": "stdout",
     "output_type": "stream",
     "text": [
      "38.03566100161947 -43.537318409570126 -53.14752116328707 397.4390348658607\n"
     ]
    },
    {
     "data": {
      "image/png": "[encoded data removed]",
      "text/plain": [
       "<Figure size 432x288 with 1 Axes>"
      ]
     },
     "metadata": {
      "needs_background": "light"
     },
     "output_type": "display_data"
    },
    {
     "name": "stdout",
     "output_type": "stream",
     "text": [
      "22.876600115397416 5.9147903830154815 -44.289463547276384 372.33547591985445\n"
     ]
    },
    {
     "data": {
      "image/png": "[encoded data removed]",
      "text/plain": [
       "<Figure size 432x288 with 1 Axes>"
      ]
     },
     "metadata": {
      "needs_background": "light"
     },
     "output_type": "display_data"
    }
   ],
   "source": [
    "\"\"\"\n",
    "It is often worth doing an energy-weighting when visualizing clusters\n",
    "\"\"\"\n",
    "testev = superEvent(60, branches1)\n",
    "c=0\n",
    "print(testev.multiDepthClusters[c].energy,\n",
    "      testev.multiDepthClusters[c].posx,\n",
    "      testev.multiDepthClusters[c].posy,\n",
    "      testev.multiDepthClusters[c].posz)\n",
    "test2 = plt.hist2d(list(testev.tower_LFHCAL_posx[testev.multiDepthClusters[c].hitIndices]),\n",
    "                   list(testev.tower_LFHCAL_posy[testev.multiDepthClusters[c].hitIndices]),\n",
    "                   weights=list(np.multiply(testev.multiDepthClusters[c].hitFracs, testev.tower_LFHCAL_E[testev.multiDepthClusters[c].hitIndices])),\n",
    "                   bins=[120,120], range=[[-300, 300], [-300, 300]])\n",
    "plt.show()\n",
    "c=1\n",
    "print(testev.multiDepthClusters[c].energy,\n",
    "      testev.multiDepthClusters[c].posx,\n",
    "      testev.multiDepthClusters[c].posy,\n",
    "      testev.multiDepthClusters[c].posz)\n",
    "test3 = plt.hist2d(list(testev.tower_LFHCAL_posx[testev.multiDepthClusters[c].hitIndices]),\n",
    "                   list(testev.tower_LFHCAL_posy[testev.multiDepthClusters[c].hitIndices]),\n",
    "                   weights=list(np.multiply(testev.multiDepthClusters[c].hitFracs, testev.tower_LFHCAL_E[testev.multiDepthClusters[c].hitIndices])),\n",
    "                   bins=[120,120], range=[[-300, 300], [-300, 300]])"
   ]
  },
  {
   "cell_type": "code",
   "execution_count": null,
   "id": "5ca84535",
   "metadata": {},
   "outputs": [],
   "source": []
  }
 ],
 "metadata": {
  "kernelspec": {
   "display_name": "PowerWeek",
   "language": "python",
   "name": "powerweek"
  },
  "language_info": {
   "codemirror_mode": {
    "name": "ipython",
    "version": 3
   },
   "file_extension": ".py",
   "mimetype": "text/x-python",
   "name": "python",
   "nbconvert_exporter": "python",
   "pygments_lexer": "ipython3",
   "version": "3.11.3"
  }
 },
 "nbformat": 4,
 "nbformat_minor": 5
}
