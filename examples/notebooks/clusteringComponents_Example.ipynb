{
 "cells": [
  {
   "cell_type": "code",
   "execution_count": 1,
   "id": "77ac351a",
   "metadata": {},
   "outputs": [],
   "source": [
    "import uproot\n",
    "import numpy as np\n",
    "import sys\n",
    "\n",
    "import matplotlib.pyplot as plt"
   ]
  },
  {
   "cell_type": "code",
   "execution_count": 2,
   "id": "1885c615",
   "metadata": {},
   "outputs": [
    {
     "name": "stdout",
     "output_type": "stream",
     "text": [
      "Welcome to JupyROOT 6.24/00\n"
     ]
    }
   ],
   "source": [
    "sys.path.insert(0, '..')\n",
    "\n",
    "from eventContainer import eventContainer\n",
    "from hitClass import recHitContainer\n",
    "from superCluster import superCluster\n",
    "from truthCluster import truthCluster\n",
    "from singleLayerCluster import singleLayerCluster\n",
    "from multiDepthCluster import multiDepthCluster\n",
    "\n",
    "import helperV2\n",
    "\n",
    "from exampleMLBasedCluster import exampleMLBasedCluster"
   ]
  },
  {
   "cell_type": "code",
   "execution_count": 3,
   "id": "dc2d6c6d",
   "metadata": {},
   "outputs": [],
   "source": [
    "file1 = uproot.open('../merged_tree_Hannahchanges_20230615.root')\n",
    "tree1 = file1['event_tree']\n",
    "branches1 = tree1.arrays()"
   ]
  },
  {
   "cell_type": "code",
   "execution_count": 4,
   "id": "548cc26d",
   "metadata": {},
   "outputs": [
    {
     "name": "stdout",
     "output_type": "stream",
     "text": [
      "0\n",
      "100\n",
      "200\n",
      "300\n",
      "400\n",
      "500\n",
      "600\n",
      "700\n",
      "800\n",
      "900\n",
      "1000\n"
     ]
    }
   ],
   "source": [
    "#This took me about 107 seconds on my macbook\n",
    "diffs = []\n",
    "for ev in range(1001):\n",
    "    if(ev%100==0):\n",
    "        print(ev)\n",
    "    testev = eventContainer(ev, branches1)\n",
    "    if(testev.tower_LFHCAL_N < 1):\n",
    "        continue\n",
    "    \n",
    "    truthClusters = helperV2.makeTruthClusters(testev)\n",
    "    \n",
    "    listOfSCs = helperV2.runClusterizer(testev)\n",
    "    combinedListOfSCs = helperV2.combineSuperClustersInLayer(listOfSCs)\n",
    "    allClusters = helperV2.makeAllClusters(testev, combinedListOfSCs)\n",
    "    layeredClusters = helperV2.makeLayeredClusters(allClusters)\n",
    "    multiDepthClusters = helperV2.makeMultiDepthClusters(testev, layeredClusters)\n",
    "    matchedClusters = helperV2.doClusterMatching(truthClusters, multiDepthClusters)\n",
    "    \n",
    "    tmpDiffs = helperV2.findMatchedDiffs(matchedClusters, truthClusters, multiDepthClusters)\n",
    "    if(tmpDiffs is not None):\n",
    "        diffs += tmpDiffs\n",
    "    "
   ]
  },
  {
   "cell_type": "code",
   "execution_count": 5,
   "id": "b807e628",
   "metadata": {},
   "outputs": [
    {
     "data": {
      "image/png": "[encoded data removed]",
      "text/plain": [
       "<Figure size 432x288 with 1 Axes>"
      ]
     },
     "metadata": {
      "needs_background": "light"
     },
     "output_type": "display_data"
    }
   ],
   "source": [
    "test = plt.hist(diffs, bins = 50, range=[-1,2])"
   ]
  },
  {
   "cell_type": "code",
   "execution_count": null,
   "id": "61b0a82c",
   "metadata": {},
   "outputs": [],
   "source": []
  },
  {
   "cell_type": "code",
   "execution_count": 6,
   "id": "bbd9ce6d",
   "metadata": {},
   "outputs": [],
   "source": [
    "#Running a single cluster\n",
    "testev = eventContainer(60, branches1)\n",
    "if(testev.tower_LFHCAL_N > 0):\n",
    "\n",
    "    truthClusters = helperV2.makeTruthClusters(testev)\n",
    "\n",
    "    listOfSCs = helperV2.runClusterizer(testev)\n",
    "    combinedListOfSCs = helperV2.combineSuperClustersInLayer(listOfSCs)\n",
    "    allClusters = helperV2.makeAllClusters(testev, combinedListOfSCs)\n",
    "    layeredClusters = helperV2.makeLayeredClusters(allClusters)\n",
    "    multiDepthClusters = helperV2.makeMultiDepthClusters(testev, layeredClusters)\n",
    "    matchedClusters = helperV2.doClusterMatching(truthClusters, multiDepthClusters)\n",
    "\n",
    "    tmpDiffs = helperV2.findMatchedDiffs(matchedClusters, truthClusters, multiDepthClusters)"
   ]
  },
  {
   "cell_type": "code",
   "execution_count": 7,
   "id": "0ffbceae",
   "metadata": {},
   "outputs": [
    {
     "name": "stdout",
     "output_type": "stream",
     "text": [
      "38.03566100161947 -43.537318409570126 -53.14752116328707 397.4390348658607\n"
     ]
    },
    {
     "data": {
      "image/png": "[encoded data removed]",
      "text/plain": [
       "<Figure size 432x288 with 1 Axes>"
      ]
     },
     "metadata": {
      "needs_background": "light"
     },
     "output_type": "display_data"
    },
    {
     "name": "stdout",
     "output_type": "stream",
     "text": [
      "22.876600115397416 5.9147903830154815 -44.289463547276384 372.33547591985445\n"
     ]
    },
    {
     "data": {
      "image/png": "[encoded data removed]",
      "text/plain": [
       "<Figure size 432x288 with 1 Axes>"
      ]
     },
     "metadata": {
      "needs_background": "light"
     },
     "output_type": "display_data"
    }
   ],
   "source": [
    "\"\"\"\n",
    "Visualize two clusters.  In this instance, I know that event 60 has two nearby clusters\n",
    "This is a bit of an illustration of why I might want to add in cluster pruning\n",
    "to get rid of the \"ghost\" cluster components underneath the other clusters\n",
    "In any case, you can compare the energy and position information with the next cell\n",
    "and see that the reco clusters *are* pretty similar to the truth ones\n",
    "\"\"\"\n",
    "c=0\n",
    "print(multiDepthClusters[c].energy,\n",
    "      multiDepthClusters[c].posx,\n",
    "      multiDepthClusters[c].posy,\n",
    "      multiDepthClusters[c].posz)\n",
    "test2 = plt.hist2d(list(testev.tower_LFHCAL_posx[multiDepthClusters[c].hitIndices]),\n",
    "                   list(testev.tower_LFHCAL_posy[multiDepthClusters[c].hitIndices]),\n",
    "                   weights=list(multiDepthClusters[c].hitFracs),\n",
    "                   bins=[120,120], range=[[-300, 300], [-300, 300]])\n",
    "plt.show()\n",
    "c=1\n",
    "print(multiDepthClusters[c].energy,\n",
    "      multiDepthClusters[c].posx,\n",
    "      multiDepthClusters[c].posy,\n",
    "      multiDepthClusters[c].posz)\n",
    "test3 = plt.hist2d(list(testev.tower_LFHCAL_posx[multiDepthClusters[c].hitIndices]),\n",
    "                   list(testev.tower_LFHCAL_posy[multiDepthClusters[c].hitIndices]),\n",
    "                   weights=list(multiDepthClusters[c].hitFracs),\n",
    "                   bins=[120,120], range=[[-300, 300], [-300, 300]])"
   ]
  },
  {
   "cell_type": "code",
   "execution_count": 8,
   "id": "e2b84c76",
   "metadata": {},
   "outputs": [],
   "source": [
    "#See superEvent_Example for plotting truth clusters and plotting with energy weighting"
   ]
  },
  {
   "cell_type": "code",
   "execution_count": null,
   "id": "a96836fa",
   "metadata": {},
   "outputs": [],
   "source": []
  },
  {
   "cell_type": "code",
   "execution_count": 10,
   "id": "0ae5865e",
   "metadata": {},
   "outputs": [],
   "source": [
    "ML_Cluster_Example = exampleMLBasedCluster(testev, multiDepthClusters[0].hitIndices, multiDepthClusters[0].hitFracs)\n",
    "ML_Cluster_Example.calculateCluster()"
   ]
  },
  {
   "cell_type": "code",
   "execution_count": 12,
   "id": "3eecb648",
   "metadata": {},
   "outputs": [
    {
     "name": "stdout",
     "output_type": "stream",
     "text": [
      "38.03566100161947 -43.537318409570126 -53.14752116328707 397.4390348658607\n"
     ]
    },
    {
     "data": {
      "image/png": "[encoded data removed]",
      "text/plain": [
       "<Figure size 432x288 with 1 Axes>"
      ]
     },
     "metadata": {
      "needs_background": "light"
     },
     "output_type": "display_data"
    }
   ],
   "source": [
    "print(ML_Cluster_Example.energy, ML_Cluster_Example.posx, ML_Cluster_Example.posy, ML_Cluster_Example.posz)\n",
    "test3 = plt.hist2d(list(testev.tower_LFHCAL_posx[ML_Cluster_Example.hitIndices]),\n",
    "                   list(testev.tower_LFHCAL_posy[ML_Cluster_Example.hitIndices]),\n",
    "                   weights=list(ML_Cluster_Example.hitFracs),\n",
    "                   bins=[120,120], range=[[-300, 300], [-300, 300]])"
   ]
  },
  {
   "cell_type": "code",
   "execution_count": null,
   "id": "e350c361",
   "metadata": {},
   "outputs": [],
   "source": []
  }
 ],
 "metadata": {
  "kernelspec": {
   "display_name": "Python 3",
   "language": "python",
   "name": "python3"
  },
  "language_info": {
   "codemirror_mode": {
    "name": "ipython",
    "version": 3
   },
   "file_extension": ".py",
   "mimetype": "text/x-python",
   "name": "python",
   "nbconvert_exporter": "python",
   "pygments_lexer": "ipython3",
   "version": "3.9.6"
  }
 },
 "nbformat": 4,
 "nbformat_minor": 5
}
