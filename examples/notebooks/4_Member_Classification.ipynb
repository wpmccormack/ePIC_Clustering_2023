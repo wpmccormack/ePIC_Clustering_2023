{
 "cells": [
  {
   "cell_type": "markdown",
   "id": "40dbd4d3-5334-4a90-9d29-678e382715f2",
   "metadata": {},
   "source": [
    "# Member Classification Model"
   ]
  },
  {
   "cell_type": "code",
   "execution_count": null,
   "id": "5397ec31",
   "metadata": {
    "tags": []
   },
   "outputs": [],
   "source": [
    "%load_ext autoreload\n",
    "%autoreload 2\n",
    "\n",
    "import numpy as np\n",
    "import sys\n",
    "from torch_geometric.data import DataLoader, Dataset, Data\n",
    "import lightning.pytorch as pl\n",
    "import seaborn as sns\n",
    "import pandas as pd\n",
    "import os\n",
    "from tqdm import tqdm\n",
    "import torch\n",
    "import itertools\n",
    "import yaml\n",
    "from pytorch_lightning.loggers import WandbLogger\n",
    "\n",
    "import matplotlib.pyplot as plt\n",
    "from torch_geometric.utils import to_scipy_sparse_matrix\n",
    "import scipy.sparse as sps\n",
    "import xxhash\n",
    "from torch_cluster import knn\n",
    "\n",
    "from epic_clustering.utils import plot_clusters, get_cluster_pos\n",
    "from epic_clustering.models import MemberClassification\n",
    "from epic_clustering.scoring import weighted_v_score"
   ]
  },
  {
   "cell_type": "markdown",
   "id": "8c6ab1ee",
   "metadata": {},
   "source": [
    "## 1. Training Loop"
   ]
  },
  {
   "cell_type": "markdown",
   "id": "9b3a4a3c-b17e-4731-bca7-d86f1e858123",
   "metadata": {},
   "source": [
    "Training took me about 2 hours on a single (A100) GPU. If you use a smaller GPU, you may need to decrease the batch size. The configuration I used for this submission is:\n",
    "\n",
    "```\n",
    "input_dir: /global/cfs/cdirs/m3443/data/PowerWeek/train/train/\n",
    "project: PowerWeek_MemberClassification\n",
    "checkpoint_dir: /global/cfs/cdirs/m3443/data/PowerWeek/checkpoints/\n",
    "\n",
    "data_split: [2000, 10, 10]\n",
    "batch_size: 20\n",
    "input_features: 12\n",
    "emb_hidden: 1024\n",
    "nb_layer: 4\n",
    "activation: ReLU\n",
    "\n",
    "warmup: 10\n",
    "lr: 0.01\n",
    "patience: 30\n",
    "max_epochs: 10\n",
    "factor: 0.7\n",
    "num_seeds: 40\n",
    "```"
   ]
  },
  {
   "cell_type": "code",
   "execution_count": null,
   "id": "eeae4c2c",
   "metadata": {
    "tags": []
   },
   "outputs": [],
   "source": [
    "with open(\"member_classification.yaml\") as f:\n",
    "    member_classification_config = yaml.safe_load(f)\n",
    "model = MemberClassification(member_classification_config)\n",
    "model.setup(stage=\"fit\")"
   ]
  },
  {
   "cell_type": "code",
   "execution_count": null,
   "id": "6cbd53e3",
   "metadata": {
    "tags": []
   },
   "outputs": [],
   "source": [
    "logger = WandbLogger(project=member_classification_config[\"project\"])\n",
    "trainer = pl.Trainer(devices=1, accelerator=\"gpu\", max_epochs=300, logger=logger)\n",
    "trainer.fit(model)"
   ]
  },
  {
   "cell_type": "code",
   "execution_count": null,
   "id": "f25ac5fa",
   "metadata": {
    "tags": []
   },
   "outputs": [],
   "source": [
    "event = model.trainset[-1]"
   ]
  },
  {
   "cell_type": "code",
   "execution_count": null,
   "id": "a9d41026",
   "metadata": {
    "tags": []
   },
   "outputs": [],
   "source": [
    "event"
   ]
  },
  {
   "cell_type": "code",
   "execution_count": null,
   "id": "e4a34ec3",
   "metadata": {
    "tags": []
   },
   "outputs": [],
   "source": [
    "true_edges = event.edge_index[:, event.y.bool()]"
   ]
  },
  {
   "cell_type": "code",
   "execution_count": null,
   "id": "45636349",
   "metadata": {
    "tags": []
   },
   "outputs": [],
   "source": [
    "# Collect seeds in one tensor\n",
    "seeds_idx = true_edges.unique()"
   ]
  },
  {
   "cell_type": "code",
   "execution_count": null,
   "id": "328ea914",
   "metadata": {
    "tags": []
   },
   "outputs": [],
   "source": [
    "input_dir = \"/global/cfs/cdirs/m3443/data/PowerWeek/train/train\"\n",
    "csv_file = os.path.join(input_dir, \"/global/cfs/cdirs/m3443/data/PowerWeek/train/train/train_ePIC_event0_1000.csv\")\n",
    "events_df = pd.read_csv(csv_file)"
   ]
  },
  {
   "cell_type": "code",
   "execution_count": null,
   "id": "9448aa3e-2594-4228-9ff0-f11b01871683",
   "metadata": {
    "tags": []
   },
   "outputs": [],
   "source": [
    "input_dir = \"/global/cfs/cdirs/m3443/data/PowerWeek/train/train\"\n",
    "num_events = sum(model.hparams[\"data_split\"])\n",
    "csv_files = sorted([os.path.join(input_dir, f) for f in os.listdir(input_dir) if f.endswith('.csv')])[:num_events//1000 + 1]\n",
    "events_df = pd.concat([pd.read_csv(f) for f in sorted(csv_files)])\n",
    "if num_events is not None:\n",
    "    events_df = events_df[events_df[\"event\"].isin(sorted(events_df[\"event\"].unique())[:num_events])]\n",
    "events_df['clusterID'] = events_df['clusterID'].astype(np.uint64) # Needed for some reason?"
   ]
  },
  {
   "cell_type": "code",
   "execution_count": null,
   "id": "4266de17",
   "metadata": {
    "tags": []
   },
   "outputs": [],
   "source": [
    "event_df = events_df[events_df.event == 10008]"
   ]
  },
  {
   "cell_type": "code",
   "execution_count": null,
   "id": "56ed5e4f",
   "metadata": {
    "tags": []
   },
   "outputs": [],
   "source": [
    "# Collect nonseeds in another tensor\n",
    "nonseeds_idx = torch.from_numpy(event_df.hit_number[~np.isin(event_df.hit_number.values, seeds_idx.long().numpy())].values).unique()"
   ]
  },
  {
   "cell_type": "code",
   "execution_count": null,
   "id": "fc47cd63",
   "metadata": {
    "tags": []
   },
   "outputs": [],
   "source": [
    "# For each nonseed find closest seed with knn=1\n",
    "nonseeds_to_seeds = knn(torch.from_numpy(event_df[np.isin(event_df.hit_number.values, seeds_idx.long().numpy())][['posx', 'posy']].to_numpy()), torch.from_numpy(event_df[np.isin(event_df.hit_number.values, nonseeds_idx.long().numpy())][['posx', 'posy']].to_numpy()), 1)\n",
    "\n",
    "# Convert 0, .., N indices back to original seed_idx and nonseed_idx\n",
    "nonseeds_to_seeds = torch.stack([seeds_idx[nonseeds_to_seeds[1]], nonseeds_idx[nonseeds_to_seeds[0]]])"
   ]
  },
  {
   "cell_type": "code",
   "execution_count": null,
   "id": "a94e01ed",
   "metadata": {
    "tags": []
   },
   "outputs": [],
   "source": [
    "# Visualize this!\n",
    "plt.figure(figsize=(10, 10))\n",
    "seeds_df = event_df[np.isin(event_df.hit_number.values, seeds_idx.long().numpy())]\n",
    "nonseeds_df = event_df[np.isin(event_df.hit_number.values, nonseeds_idx.long().numpy())]\n",
    "plt.scatter(nonseeds_df.posx, nonseeds_df.posy, marker='o', c='b', s=3)\n",
    "plt.plot(event_df.posx.values[nonseeds_to_seeds], event_df.posy.values[nonseeds_to_seeds], c=\"g\", alpha=0.3)\n",
    "plt.plot(event_df.posx.values[true_edges], event_df.posy.values[true_edges], c=\"m\", alpha=0.2)\n",
    "plt.scatter(seeds_df.posx, seeds_df.posy, marker='o', c='k', s=100)"
   ]
  },
  {
   "cell_type": "code",
   "execution_count": null,
   "id": "71102357-0e96-4982-bb04-40e473b3e9e0",
   "metadata": {
    "tags": []
   },
   "outputs": [],
   "source": [
    "combined_graph = torch.cat([nonseeds_to_seeds, true_edges], dim=-1)"
   ]
  },
  {
   "cell_type": "code",
   "execution_count": null,
   "id": "37c1f70b",
   "metadata": {
    "tags": []
   },
   "outputs": [],
   "source": [
    "sparse_edges = to_scipy_sparse_matrix(combined_graph, num_nodes = len(event_df))"
   ]
  },
  {
   "cell_type": "code",
   "execution_count": null,
   "id": "54067d86",
   "metadata": {
    "tags": []
   },
   "outputs": [],
   "source": [
    "_, candidate_labels = sps.csgraph.connected_components(sparse_edges, directed=False, return_labels=True)  \n",
    "labels = torch.from_numpy(candidate_labels).long()"
   ]
  },
  {
   "cell_type": "code",
   "execution_count": null,
   "id": "ce795f5f-92fc-44e2-8c6f-e15562c0d588",
   "metadata": {
    "tags": []
   },
   "outputs": [],
   "source": [
    "np.mean([len(event.edge_index.unique()) for event in tqdm(model.trainset)])"
   ]
  },
  {
   "cell_type": "code",
   "execution_count": null,
   "id": "a6fab4d9-ed7b-481a-9b17-49fb4fad5aff",
   "metadata": {
    "tags": []
   },
   "outputs": [],
   "source": [
    "input_dir = \"/global/cfs/cdirs/m3443/data/PowerWeek/train/train\"\n",
    "num_events = sum(model.hparams[\"data_split\"])\n",
    "csv_files = sorted([os.path.join(input_dir, f) for f in os.listdir(input_dir) if f.endswith('.csv')])[:num_events//1000 + 1]\n",
    "events_df = pd.concat([pd.read_csv(f) for f in sorted(csv_files)])\n",
    "if num_events is not None:\n",
    "    events_df = events_df[events_df[\"event\"].isin(sorted(events_df[\"event\"].unique())[:num_events])]\n",
    "events_df['clusterID'] = events_df['clusterID'].astype(np.uint64) # Needed for some reason?"
   ]
  },
  {
   "cell_type": "code",
   "execution_count": null,
   "id": "ec86516d-5400-49f8-90a4-399d16ffec67",
   "metadata": {
    "tags": []
   },
   "outputs": [],
   "source": [
    "pd.options.mode.chained_assignment = None\n",
    "def label_hits(event, events_df, max_dist=None):\n",
    "    true_edges = event.edge_index[:, event.y.bool()]\n",
    "    \n",
    "    seeds_idx = true_edges.unique()\n",
    "    \n",
    "    event_df = events_df[events_df.event == event.event_id]\n",
    "    \n",
    "    # Collect nonseeds in another tensor\n",
    "    nonseeds_idx = torch.from_numpy(event_df.hit_number[~np.isin(event_df.hit_number.values, seeds_idx.long().numpy())].values).unique()\n",
    "\n",
    "    # For each nonseed find closest seed with knn=1\n",
    "    nonseeds_to_seeds = knn(torch.from_numpy(event_df[np.isin(event_df.hit_number.values, seeds_idx.long().numpy())][['posx', 'posy']].to_numpy()), torch.from_numpy(event_df[np.isin(event_df.hit_number.values, nonseeds_idx.long().numpy())][['posx', 'posy']].to_numpy()), 1)\n",
    "\n",
    "    # Convert 0, .., N indices back to original seed_idx and nonseed_idx\n",
    "    nonseeds_to_seeds = torch.stack([seeds_idx[nonseeds_to_seeds[1]], nonseeds_idx[nonseeds_to_seeds[0]]])\n",
    "    \n",
    "    if max_dist is not None:\n",
    "        positions = torch.from_numpy(events_df[[\"posx\", \"posy\", \"posz\"]].values)\n",
    "        nonseeds_to_seeds = nonseeds_to_seeds[:, torch.sqrt(torch.sum((positions[nonseeds_to_seeds[0]] - positions[nonseeds_to_seeds[1]])**2, dim=-1)) < max_dist]\n",
    "    \n",
    "    combined_graph = torch.cat([nonseeds_to_seeds, true_edges], dim=-1)\n",
    "    sparse_edges = to_scipy_sparse_matrix(combined_graph, num_nodes = len(event_df))\n",
    "    _, candidate_labels = sps.csgraph.connected_components(sparse_edges, directed=False, return_labels=True)  \n",
    "    labels = torch.from_numpy(candidate_labels).long()\n",
    "    \n",
    "    event_df['tmp_clusterID'] = labels\n",
    "\n",
    "    # encode the labels to make sure it's unique across all events \n",
    "    str_ids = event_df['event'].astype('str') + \"_\" + event_df['tmp_clusterID'].astype('str')\n",
    "    event_df['labelID'] = [xxhash.xxh64_intdigest(x, seed=0) for x in str_ids.values]\n",
    "    \n",
    "    return event_df"
   ]
  },
  {
   "cell_type": "code",
   "execution_count": null,
   "id": "0db8d635-4209-4caa-917c-1978a4b6fb9a",
   "metadata": {
    "tags": []
   },
   "outputs": [],
   "source": [
    "labelled_events_df = []\n",
    "for event in tqdm(model.trainset[:2000]):\n",
    "    try:\n",
    "        labelled_events_df.append(label_hits(event, events_df))\n",
    "    except:\n",
    "        pass\n",
    "labelled_events_df = pd.concat(labelled_events_df)\n",
    "print(f\"Vscore: {weighted_v_score(labels_true=labelled_events_df['clusterID'], labels_pred=labelled_events_df['labelID'], labels_weight=labelled_events_df['E'])[2]}\")"
   ]
  },
  {
   "cell_type": "code",
   "execution_count": null,
   "id": "249f54bf-8fa4-4bc1-abed-3072901bd5db",
   "metadata": {
    "tags": []
   },
   "outputs": [],
   "source": [
    "print(f\"Vscore: {weighted_v_score(labels_true=labelled_events_df['clusterID'], labels_pred=labelled_events_df['labelID'], labels_weight=labelled_events_df['E'])[2]}\")"
   ]
  },
  {
   "cell_type": "code",
   "execution_count": null,
   "id": "f6268339-7baf-4b30-b8db-74d6b5bf76d5",
   "metadata": {
    "tags": []
   },
   "outputs": [],
   "source": [
    "worst_performance = 0\n",
    "worst_score = None\n",
    "for event in tqdm(model.trainset[:100]):\n",
    "    try:\n",
    "        labelled_event = label_hits(event, events_df)\n",
    "    except:\n",
    "        pass\n",
    "    score = weighted_v_score(labels_true=labelled_event['clusterID'], labels_pred=labelled_event['labelID'], labels_weight=labelled_event['E'])[2]\n",
    "    performance = labelled_event.E.sum() / score\n",
    "    if performance > worst_performance:\n",
    "        print(performance)\n",
    "        print(event)\n",
    "        print(score)\n",
    "        worst_performance = performance\n",
    "        worst_score = score"
   ]
  },
  {
   "cell_type": "code",
   "execution_count": null,
   "id": "6d06eb02-9527-4021-9af4-4b8e980d5720",
   "metadata": {
    "tags": []
   },
   "outputs": [],
   "source": [
    "hard_event = model.trainset[61]\n",
    "hard_event_df = events_df[events_df.event == hard_event.event_id]"
   ]
  },
  {
   "cell_type": "code",
   "execution_count": null,
   "id": "c659c87b-a9d3-4609-86ac-1ea581f73f6c",
   "metadata": {
    "tags": []
   },
   "outputs": [],
   "source": [
    "hard_event"
   ]
  },
  {
   "cell_type": "code",
   "execution_count": null,
   "id": "5fb01356-de93-4b6a-9d68-c274b580cdb5",
   "metadata": {
    "tags": []
   },
   "outputs": [],
   "source": [
    "hard_event_df.E.sum() / worst_score"
   ]
  },
  {
   "cell_type": "code",
   "execution_count": null,
   "id": "360771fe-5fca-4085-8505-4cddcecc775c",
   "metadata": {
    "tags": []
   },
   "outputs": [],
   "source": [
    "true_edges = hard_event.edge_index[:, hard_event.y.bool()]"
   ]
  },
  {
   "cell_type": "code",
   "execution_count": null,
   "id": "bd466b87-5d25-40bd-ac7b-7a45274e2e01",
   "metadata": {
    "tags": []
   },
   "outputs": [],
   "source": [
    "# Collect seeds in one tensor\n",
    "seeds_idx = true_edges.unique()"
   ]
  },
  {
   "cell_type": "code",
   "execution_count": null,
   "id": "e869568b-912d-41b8-84d0-a0c4fea86a51",
   "metadata": {
    "tags": []
   },
   "outputs": [],
   "source": [
    "# Collect nonseeds in another tensor\n",
    "nonseeds_idx = torch.from_numpy(hard_event_df.hit_number[~np.isin(hard_event_df.hit_number.values, seeds_idx.long().numpy())].values).unique()"
   ]
  },
  {
   "cell_type": "code",
   "execution_count": null,
   "id": "097ee10f-e0a6-48ec-870b-c9732763204c",
   "metadata": {
    "tags": []
   },
   "outputs": [],
   "source": [
    "# For each nonseed find closest seed with knn=1\n",
    "nonseeds_to_seeds = knn(torch.from_numpy(hard_event_df[np.isin(hard_event_df.hit_number.values, seeds_idx.long().numpy())][['posx', 'posy']].to_numpy()), torch.from_numpy(hard_event_df[np.isin(hard_event_df.hit_number.values, nonseeds_idx.long().numpy())][['posx', 'posy']].to_numpy()), 1)\n",
    "\n",
    "# Convert 0, .., N indices back to original seed_idx and nonseed_idx\n",
    "nonseeds_to_seeds = torch.stack([seeds_idx[nonseeds_to_seeds[1]], nonseeds_idx[nonseeds_to_seeds[0]]])"
   ]
  },
  {
   "cell_type": "code",
   "execution_count": null,
   "id": "3be89a8e-a91a-43d8-ab42-cb913e22c452",
   "metadata": {
    "tags": []
   },
   "outputs": [],
   "source": [
    "cluster_id = hard_event_df.clusterID.values"
   ]
  },
  {
   "cell_type": "code",
   "execution_count": null,
   "id": "ffada5a1-8b25-4a39-9ba5-e767cc8fff7f",
   "metadata": {
    "tags": []
   },
   "outputs": [],
   "source": [
    "true_neighbor_edges = nonseeds_to_seeds[:, cluster_id[nonseeds_to_seeds[0]] == cluster_id[nonseeds_to_seeds[1]]]\n",
    "fake_neighbor_edges = nonseeds_to_seeds[:, cluster_id[nonseeds_to_seeds[0]] != cluster_id[nonseeds_to_seeds[1]]]"
   ]
  },
  {
   "cell_type": "code",
   "execution_count": null,
   "id": "52f9b96e-3d09-4f20-b01f-e6365dc432e4",
   "metadata": {
    "tags": []
   },
   "outputs": [],
   "source": [
    "# Visualize this!\n",
    "plt.figure(figsize=(10, 10))\n",
    "seeds_df = hard_event_df[np.isin(hard_event_df.hit_number.values, seeds_idx.long().numpy())]\n",
    "nonseeds_df = hard_event_df[np.isin(hard_event_df.hit_number.values, nonseeds_idx.long().numpy())]\n",
    "plt.scatter(nonseeds_df.posx, nonseeds_df.posy, marker='o', c='b', s=3)\n",
    "plt.plot(hard_event_df.posx.values[nonseeds_to_seeds], hard_event_df.posy.values[nonseeds_to_seeds], c=\"g\", alpha=0.3)\n",
    "plt.plot(hard_event_df.posx.values[true_edges], hard_event_df.posy.values[true_edges], c=\"m\", alpha=0.2)\n",
    "plt.scatter(seeds_df.posx, seeds_df.posy, marker='o', c='k', s=100)"
   ]
  },
  {
   "cell_type": "code",
   "execution_count": null,
   "id": "ced2f6f6-5944-424d-9518-1ba479fd6626",
   "metadata": {
    "tags": []
   },
   "outputs": [],
   "source": [
    "# Visualize this!\n",
    "plt.figure(figsize=(10, 10))\n",
    "seeds_df = hard_event_df[np.isin(hard_event_df.hit_number.values, seeds_idx.long().numpy())]\n",
    "nonseeds_df = hard_event_df[np.isin(hard_event_df.hit_number.values, nonseeds_idx.long().numpy())]\n",
    "plt.plot(hard_event_df.posx.values[true_neighbor_edges], hard_event_df.posy.values[true_neighbor_edges], c=\"g\", alpha=0.2)\n",
    "plt.plot(hard_event_df.posx.values[fake_neighbor_edges], hard_event_df.posy.values[fake_neighbor_edges], c=\"r\", alpha=0.2)\n",
    "plt.plot(hard_event_df.posx.values[true_edges], hard_event_df.posy.values[true_edges], c=\"m\", alpha=0.2)\n",
    "plt.scatter(seeds_df.posx, seeds_df.posy, marker='o', c=seeds_df.clusterID, s=100)\n",
    "plt.scatter(nonseeds_df.posx, nonseeds_df.posy, marker='o', c=nonseeds_df.clusterID, s=15)"
   ]
  },
  {
   "cell_type": "code",
   "execution_count": null,
   "id": "47020591-ae2c-4605-b076-a2730112098b",
   "metadata": {
    "tags": []
   },
   "outputs": [],
   "source": [
    "# Visualize this!\n",
    "plt.figure(figsize=(10, 10))\n",
    "seeds_df = hard_event_df[np.isin(hard_event_df.hit_number.values, seeds_idx.long().numpy())]\n",
    "nonseeds_df = hard_event_df[np.isin(hard_event_df.hit_number.values, nonseeds_idx.long().numpy())]\n",
    "plt.scatter(nonseeds_df.posx, nonseeds_df.posy, marker='o', c='b', s=3)\n",
    "plt.plot(hard_event_df.posx.values[fake_neighbor_edges], hard_event_df.posy.values[fake_neighbor_edges], c=\"r\", alpha=0.5)\n",
    "plt.plot(hard_event_df.posx.values[true_neighbor_edges], hard_event_df.posy.values[true_neighbor_edges], c=\"g\", alpha=0.5)\n",
    "plt.plot(hard_event_df.posx.values[true_edges], hard_event_df.posy.values[true_edges], c=\"m\", alpha=0.2)\n",
    "plt.scatter(seeds_df.posx, seeds_df.posy, marker='o', c='k', s=100)"
   ]
  },
  {
   "cell_type": "code",
   "execution_count": null,
   "id": "b3e7862e-e644-4a49-880a-7cb6097652d6",
   "metadata": {},
   "outputs": [],
   "source": []
  },
  {
   "cell_type": "code",
   "execution_count": null,
   "id": "ccd61ead-629f-4065-8bc0-66f109c26916",
   "metadata": {},
   "outputs": [],
   "source": []
  },
  {
   "cell_type": "code",
   "execution_count": null,
   "id": "d2f0caf0-b935-46a1-9dc7-db7a191864c8",
   "metadata": {},
   "outputs": [],
   "source": []
  },
  {
   "cell_type": "code",
   "execution_count": null,
   "id": "171a3c8a-2dad-4ca7-8e37-ee6e48bbe340",
   "metadata": {},
   "outputs": [],
   "source": []
  },
  {
   "cell_type": "code",
   "execution_count": null,
   "id": "8effb80d-f6ef-426a-856c-d246ff9ba652",
   "metadata": {},
   "outputs": [],
   "source": []
  },
  {
   "cell_type": "code",
   "execution_count": null,
   "id": "5b021f61-76bc-4172-89d1-68ba3339ae95",
   "metadata": {},
   "outputs": [],
   "source": []
  },
  {
   "cell_type": "code",
   "execution_count": null,
   "id": "37ea291d-319a-456d-93b6-550d6fba919a",
   "metadata": {
    "tags": []
   },
   "outputs": [],
   "source": [
    "scores, energies, num_seeds = [], [], []\n",
    "for event in tqdm(model.trainset[:1000]):\n",
    "    try:\n",
    "        labelled_event = label_hits(event, events_df)\n",
    "    except:\n",
    "        pass\n",
    "    scores.append(weighted_v_score(labels_true=labelled_event['clusterID'], labels_pred=labelled_event['labelID'], labels_weight=labelled_event['E'])[2])\n",
    "    energies.append(labelled_event.E.sum())\n",
    "    num_seeds.append(len(event.edge_index.unique()))"
   ]
  },
  {
   "cell_type": "code",
   "execution_count": null,
   "id": "c1c88fb2-3fb9-42e5-964a-b6c85df9a5ae",
   "metadata": {
    "tags": []
   },
   "outputs": [],
   "source": [
    "sns.histplot(np.array(energies) / np.array(scores))"
   ]
  },
  {
   "cell_type": "code",
   "execution_count": null,
   "id": "dda5c4f6-e66c-47eb-b374-baed635bc298",
   "metadata": {
    "tags": []
   },
   "outputs": [],
   "source": [
    "sns.histplot(scores)"
   ]
  },
  {
   "cell_type": "code",
   "execution_count": null,
   "id": "d30537d3-09ee-474e-9aa7-51d2a482f8e7",
   "metadata": {
    "tags": []
   },
   "outputs": [],
   "source": [
    "np.mean(scores)"
   ]
  },
  {
   "cell_type": "code",
   "execution_count": null,
   "id": "7d0f27b1-7074-4475-b3ba-181b8fc16555",
   "metadata": {
    "tags": []
   },
   "outputs": [],
   "source": [
    "sns.histplot(x=scores, y=energies)"
   ]
  },
  {
   "cell_type": "code",
   "execution_count": null,
   "id": "20b6eb85-eace-49f0-8503-492140b20c4f",
   "metadata": {
    "tags": []
   },
   "outputs": [],
   "source": [
    "sns.histplot(x=scores, y=num_seeds)"
   ]
  },
  {
   "cell_type": "code",
   "execution_count": null,
   "id": "ff49920b-bf9c-4c32-ac75-37a8449f4ad5",
   "metadata": {
    "tags": []
   },
   "outputs": [],
   "source": [
    "sns.histplot(x=energies, y=num_seeds)"
   ]
  },
  {
   "cell_type": "markdown",
   "id": "32c20b94-bff2-4a2e-a7e4-a7bdc74232af",
   "metadata": {},
   "source": [
    "## 2. Inference!"
   ]
  },
  {
   "cell_type": "code",
   "execution_count": null,
   "id": "aa27b1d0-e464-4533-946b-1d6b122c0283",
   "metadata": {
    "tags": []
   },
   "outputs": [],
   "source": [
    "checkpoint_file = \"/global/cfs/cdirs/m3443/data/PowerWeek/checkpoints/classifier.ckpt\""
   ]
  },
  {
   "cell_type": "code",
   "execution_count": null,
   "id": "7c50c662-d934-4537-b9a6-c1c049226aa7",
   "metadata": {
    "tags": []
   },
   "outputs": [],
   "source": [
    "model = MemberClassification.load_from_checkpoint(checkpoint_file)"
   ]
  },
  {
   "cell_type": "code",
   "execution_count": null,
   "id": "ba5c1f17-3905-4965-89d1-789e78e8ea14",
   "metadata": {
    "tags": []
   },
   "outputs": [],
   "source": [
    "model.hparams[\"data_split\"] = [5000, 100, 100]"
   ]
  },
  {
   "cell_type": "code",
   "execution_count": null,
   "id": "ac5c9f85-90f4-4863-a8eb-29b7565c2e5c",
   "metadata": {
    "tags": []
   },
   "outputs": [],
   "source": [
    "model.setup(stage=\"fit\")"
   ]
  },
  {
   "cell_type": "code",
   "execution_count": null,
   "id": "7369beec-3e7e-4082-a695-f8bc3fac99a7",
   "metadata": {
    "tags": []
   },
   "outputs": [],
   "source": [
    "input_dir = \"/global/cfs/cdirs/m3443/data/PowerWeek/train/train\"\n",
    "num_events = sum(model.hparams[\"data_split\"])\n",
    "csv_files = sorted([os.path.join(input_dir, f) for f in os.listdir(input_dir) if f.endswith('.csv')])[:num_events//1000 + 1]\n",
    "events_df = pd.concat([pd.read_csv(f) for f in sorted(csv_files)])\n",
    "if num_events is not None:\n",
    "    events_df = events_df[events_df[\"event\"].isin(sorted(events_df[\"event\"].unique())[:num_events])]\n",
    "events_df['clusterID'] = events_df['clusterID'].astype(np.uint64) # Needed for some reason?"
   ]
  },
  {
   "cell_type": "code",
   "execution_count": null,
   "id": "5a5c8699-01e3-48d4-9203-dc6e455ea4cd",
   "metadata": {
    "tags": []
   },
   "outputs": [],
   "source": [
    "pd.options.mode.chained_assignment = None\n",
    "def label_hits(event, events_df, pred_edges, max_dist=None):\n",
    "    \n",
    "    seeds_idx = pred_edges.unique()\n",
    "    \n",
    "    event_df = events_df[events_df.event == event.event_id]\n",
    "    \n",
    "    # Collect nonseeds in another tensor\n",
    "    nonseeds_idx = torch.from_numpy(event_df.hit_number[~np.isin(event_df.hit_number.values, seeds_idx.long().numpy())].values).unique()\n",
    "\n",
    "    # For each nonseed find closest seed with knn=1\n",
    "    nonseeds_to_seeds = knn(torch.from_numpy(event_df[np.isin(event_df.hit_number.values, seeds_idx.long().numpy())][['posx', 'posy']].to_numpy()), torch.from_numpy(event_df[np.isin(event_df.hit_number.values, nonseeds_idx.long().numpy())][['posx', 'posy']].to_numpy()), 1)\n",
    "\n",
    "    # Convert 0, .., N indices back to original seed_idx and nonseed_idx\n",
    "    nonseeds_to_seeds = torch.stack([seeds_idx[nonseeds_to_seeds[1]], nonseeds_idx[nonseeds_to_seeds[0]]])\n",
    "    \n",
    "    if max_dist is not None:\n",
    "        positions = torch.from_numpy(events_df[[\"posx\", \"posy\", \"posz\"]].values)\n",
    "        nonseeds_to_seeds = nonseeds_to_seeds[:, torch.sqrt(torch.sum((positions[nonseeds_to_seeds[0]] - positions[nonseeds_to_seeds[1]])**2, dim=-1)) < max_dist]\n",
    "    \n",
    "    # Add the seed-seed edges and the seed-nonseed edges into the same graph\n",
    "    combined_graph = torch.cat([nonseeds_to_seeds, pred_edges], dim=-1)\n",
    "    sparse_edges = to_scipy_sparse_matrix(combined_graph, num_nodes = len(event_df))\n",
    "    \n",
    "    # Perform a connected components algorithm on the graph\n",
    "    _, candidate_labels = sps.csgraph.connected_components(sparse_edges, directed=False, return_labels=True)  \n",
    "    labels = torch.from_numpy(candidate_labels).long()\n",
    "    \n",
    "    event_df['tmp_clusterID'] = labels\n",
    "\n",
    "    # encode the labels to make sure it's unique across all events \n",
    "    str_ids = event_df['event'].astype('str') + \"_\" + event_df['tmp_clusterID'].astype('str')\n",
    "    event_df['labelID'] = [xxhash.xxh64_intdigest(x, seed=0) for x in str_ids.values]\n",
    "    \n",
    "    return event_df"
   ]
  },
  {
   "cell_type": "markdown",
   "id": "59280fe0-5adb-4834-9908-ddfe244dd523",
   "metadata": {},
   "source": [
    "Let's test on the training data first"
   ]
  },
  {
   "cell_type": "code",
   "execution_count": null,
   "id": "c33d9818-c263-45f2-82c3-735ccefd5f3c",
   "metadata": {
    "tags": []
   },
   "outputs": [],
   "source": [
    "labelled_events_df = []\n",
    "for event in tqdm(model.trainset):\n",
    "    try:\n",
    "        with torch.no_grad():\n",
    "            edge_scores = model.cuda()(event.x.cuda()).cpu().squeeze()\n",
    "        labelled_events_df.append(label_hits(event, events_df, event.edge_index[:, edge_scores > 0.6]))\n",
    "    except:\n",
    "        pass\n",
    "labelled_events_df = pd.concat(labelled_events_df)\n",
    "print(f\"Vscore: {weighted_v_score(labels_true=labelled_events_df['clusterID'], labels_pred=labelled_events_df['labelID'], labels_weight=labelled_events_df['E'])[2]}\")"
   ]
  },
  {
   "cell_type": "markdown",
   "id": "5012b230-b23b-4adb-ac6d-dd0d55789eed",
   "metadata": {},
   "source": [
    "### Test Dataset"
   ]
  },
  {
   "cell_type": "markdown",
   "id": "0de2eaf6-4ec3-47ad-a8ba-f5c83acb425e",
   "metadata": {},
   "source": [
    "Now, to build the test set"
   ]
  },
  {
   "cell_type": "code",
   "execution_count": null,
   "id": "a5469093-6e3a-4854-87ac-12490e4d5af0",
   "metadata": {
    "tags": []
   },
   "outputs": [],
   "source": [
    "checkpoint_file = \"/global/cfs/cdirs/m3443/data/PowerWeek/checkpoints/classifier.ckpt\""
   ]
  },
  {
   "cell_type": "code",
   "execution_count": null,
   "id": "dc5443c2-cd0b-49cf-96d5-0eb6ad798e60",
   "metadata": {
    "tags": []
   },
   "outputs": [],
   "source": [
    "model = MemberClassification.load_from_checkpoint(checkpoint_file)"
   ]
  },
  {
   "cell_type": "code",
   "execution_count": null,
   "id": "32c0a4ad-422b-4a79-9c48-6b028def0cdc",
   "metadata": {
    "tags": []
   },
   "outputs": [],
   "source": [
    "model.hparams[\"data_split\"] = [10000, 0, 0]\n",
    "model.hparams[\"input_dir\"] = \"/global/cfs/cdirs/m3443/data/PowerWeek/test/test\""
   ]
  },
  {
   "cell_type": "code",
   "execution_count": null,
   "id": "acadaa1c-2119-4654-9c6e-83a5f470baa9",
   "metadata": {
    "tags": []
   },
   "outputs": [],
   "source": [
    "model.setup(stage=\"fit\")"
   ]
  },
  {
   "cell_type": "code",
   "execution_count": null,
   "id": "58cd8fd0-95b6-42ee-9677-fdf41f356a5e",
   "metadata": {
    "tags": []
   },
   "outputs": [],
   "source": [
    "input_dir = \"/global/cfs/cdirs/m3443/data/PowerWeek/test/test\"\n",
    "num_events = sum(model.hparams[\"data_split\"])\n",
    "csv_files = sorted([os.path.join(input_dir, f) for f in os.listdir(input_dir) if f.endswith('.csv')])[:num_events//1000 + 1]\n",
    "events_df = pd.concat([pd.read_csv(f) for f in tqdm(sorted(csv_files))])\n",
    "if num_events is not None:\n",
    "    events_df = events_df[events_df[\"event\"].isin(sorted(events_df[\"event\"].unique())[:num_events])]"
   ]
  },
  {
   "cell_type": "code",
   "execution_count": null,
   "id": "c2383427-561e-4d16-9741-b4bb557dab18",
   "metadata": {
    "tags": []
   },
   "outputs": [],
   "source": [
    "labelled_events_df = []\n",
    "for event in tqdm(model.trainset):\n",
    "    try:\n",
    "        with torch.no_grad():\n",
    "            edge_scores = model.cuda()(event.x.cuda()).cpu().squeeze()\n",
    "        labelled_events_df.append(label_hits(event, events_df, event.edge_index[:, edge_scores > 0.65]))\n",
    "    except:\n",
    "        print(f\"Error with event {event}\")\n",
    "labelled_events_df = pd.concat(labelled_events_df)"
   ]
  },
  {
   "cell_type": "markdown",
   "id": "77fcd40d-7df8-4085-929a-b42372a1d8ea",
   "metadata": {},
   "source": [
    "There are some missing rows for some reason! Let's just add them back in with random labels..."
   ]
  },
  {
   "cell_type": "code",
   "execution_count": null,
   "id": "c9949254-2682-406e-b2d7-ab03950ee4c9",
   "metadata": {
    "tags": []
   },
   "outputs": [],
   "source": [
    "missing_rows = events_df[~events_df.uniqueID.isin(labelled_events_df.uniqueID)]"
   ]
  },
  {
   "cell_type": "code",
   "execution_count": null,
   "id": "1b9aedb0-d485-4e4e-880b-ee3cab00412f",
   "metadata": {
    "tags": []
   },
   "outputs": [],
   "source": [
    "missing_rows['labelID'] = np.random.randint(0, 1000000, (len(missing_rows)))"
   ]
  },
  {
   "cell_type": "code",
   "execution_count": null,
   "id": "3db22944-4ffd-4881-8790-467214f1ed1d",
   "metadata": {
    "tags": []
   },
   "outputs": [],
   "source": [
    "labelled_events_df = pd.concat([labelled_events_df, missing_rows])"
   ]
  },
  {
   "cell_type": "markdown",
   "id": "02eccdcd-8b66-4825-9959-eef3e3887e04",
   "metadata": {},
   "source": [
    "Save the data"
   ]
  },
  {
   "cell_type": "code",
   "execution_count": null,
   "id": "f82c4fe9-ea92-443a-a095-90ea61d859ee",
   "metadata": {
    "tags": []
   },
   "outputs": [],
   "source": [
    "labelled_events_df[\"clusterID\"] = labelled_events_df[\"labelID\"]"
   ]
  },
  {
   "cell_type": "code",
   "execution_count": null,
   "id": "67f8271c-f7c0-46b2-839b-e4d5f7085648",
   "metadata": {
    "tags": []
   },
   "outputs": [],
   "source": [
    "labelled_events_df[[\"uniqueID\", \"clusterID\"]].to_parquet(\"membership_classification.parquet\")"
   ]
  }
 ],
 "metadata": {
  "kernelspec": {
   "display_name": "PowerWeek",
   "language": "python",
   "name": "powerweek"
  },
  "language_info": {
   "codemirror_mode": {
    "name": "ipython",
    "version": 3
   },
   "file_extension": ".py",
   "mimetype": "text/x-python",
   "name": "python",
   "nbconvert_exporter": "python",
   "pygments_lexer": "ipython3",
   "version": "3.11.3"
  }
 },
 "nbformat": 4,
 "nbformat_minor": 5
}
