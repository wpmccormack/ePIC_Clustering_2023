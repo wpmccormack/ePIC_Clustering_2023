{
 "cells": [
  {
   "cell_type": "code",
   "execution_count": 1,
   "id": "5397ec31",
   "metadata": {},
   "outputs": [],
   "source": [
    "%load_ext autoreload\n",
    "%autoreload 2\n",
    "\n",
    "import numpy as np\n",
    "import sys\n",
    "from torch_geometric.data import DataLoader, Dataset, Data\n",
    "import lightning.pytorch as pl\n",
    "import seaborn as sns\n",
    "import pandas as pd\n",
    "import os\n",
    "from tqdm import tqdm\n",
    "import torch\n",
    "import itertools\n",
    "import yaml\n",
    "from pytorch_lightning.loggers import WandbLogger\n",
    "\n",
    "import matplotlib.pyplot as plt\n",
    "\n",
    "from epic_clustering.utils import plot_clusters, get_cluster_pos\n",
    "from epic_clustering.models import MetricLearning"
   ]
  },
  {
   "attachments": {},
   "cell_type": "markdown",
   "id": "b9176da3",
   "metadata": {},
   "source": [
    "## 1. Load Model and Test Dataloading"
   ]
  },
  {
   "cell_type": "code",
   "execution_count": 2,
   "id": "4b7452aa",
   "metadata": {},
   "outputs": [],
   "source": [
    "input_dir = \"/global/cfs/cdirs/m3443/data/PowerWeek/train/train\"\n",
    "csv_files = [os.path.join(input_dir, f) for f in os.listdir(input_dir) if f.endswith('.csv')]"
   ]
  },
  {
   "cell_type": "code",
   "execution_count": 3,
   "id": "9e23e6bc",
   "metadata": {},
   "outputs": [],
   "source": [
    "events = pd.read_csv(csv_files[0])\n",
    "event = events[events[\"event\"] == events[\"event\"].unique()[0]]"
   ]
  },
  {
   "cell_type": "code",
   "execution_count": 4,
   "metadata": {},
   "outputs": [
    {
     "data": {
      "text/html": [
       "<div>\n",
       "<style scoped>\n",
       "    .dataframe tbody tr th:only-of-type {\n",
       "        vertical-align: middle;\n",
       "    }\n",
       "\n",
       "    .dataframe tbody tr th {\n",
       "        vertical-align: top;\n",
       "    }\n",
       "\n",
       "    .dataframe thead th {\n",
       "        text-align: right;\n",
       "    }\n",
       "</style>\n",
       "<table border=\"1\" class=\"dataframe\">\n",
       "  <thead>\n",
       "    <tr style=\"text-align: right;\">\n",
       "      <th></th>\n",
       "      <th>event</th>\n",
       "      <th>hit_number</th>\n",
       "      <th>N</th>\n",
       "      <th>E</th>\n",
       "      <th>T</th>\n",
       "      <th>ix</th>\n",
       "      <th>iy</th>\n",
       "      <th>iz</th>\n",
       "      <th>posx</th>\n",
       "      <th>posy</th>\n",
       "      <th>posz</th>\n",
       "      <th>clusterID</th>\n",
       "      <th>Efrac</th>\n",
       "      <th>uniqueID</th>\n",
       "    </tr>\n",
       "  </thead>\n",
       "  <tbody>\n",
       "    <tr>\n",
       "      <th>0</th>\n",
       "      <td>27000</td>\n",
       "      <td>0</td>\n",
       "      <td>1895</td>\n",
       "      <td>0.261049</td>\n",
       "      <td>17.51</td>\n",
       "      <td>82</td>\n",
       "      <td>60</td>\n",
       "      <td>0</td>\n",
       "      <td>117.543274</td>\n",
       "      <td>27.425</td>\n",
       "      <td>365.28000</td>\n",
       "      <td>11509158343811193875</td>\n",
       "      <td>1.0</td>\n",
       "      <td>-6937585729898357741</td>\n",
       "    </tr>\n",
       "    <tr>\n",
       "      <th>1</th>\n",
       "      <td>27000</td>\n",
       "      <td>1</td>\n",
       "      <td>1895</td>\n",
       "      <td>1.218229</td>\n",
       "      <td>12.57</td>\n",
       "      <td>38</td>\n",
       "      <td>42</td>\n",
       "      <td>0</td>\n",
       "      <td>-82.629840</td>\n",
       "      <td>-62.575</td>\n",
       "      <td>363.28000</td>\n",
       "      <td>17828652613631594586</td>\n",
       "      <td>1.0</td>\n",
       "      <td>-618091460077957030</td>\n",
       "    </tr>\n",
       "    <tr>\n",
       "      <th>2</th>\n",
       "      <td>27000</td>\n",
       "      <td>2</td>\n",
       "      <td>1895</td>\n",
       "      <td>0.983161</td>\n",
       "      <td>12.61</td>\n",
       "      <td>38</td>\n",
       "      <td>43</td>\n",
       "      <td>0</td>\n",
       "      <td>-82.629840</td>\n",
       "      <td>-67.425</td>\n",
       "      <td>365.28000</td>\n",
       "      <td>17828652613631594586</td>\n",
       "      <td>1.0</td>\n",
       "      <td>5343361554445887269</td>\n",
       "    </tr>\n",
       "    <tr>\n",
       "      <th>3</th>\n",
       "      <td>27000</td>\n",
       "      <td>3</td>\n",
       "      <td>1895</td>\n",
       "      <td>0.404564</td>\n",
       "      <td>12.57</td>\n",
       "      <td>45</td>\n",
       "      <td>42</td>\n",
       "      <td>0</td>\n",
       "      <td>-77.370160</td>\n",
       "      <td>-62.575</td>\n",
       "      <td>361.28000</td>\n",
       "      <td>17828652613631594586</td>\n",
       "      <td>1.0</td>\n",
       "      <td>-7175626205880516806</td>\n",
       "    </tr>\n",
       "    <tr>\n",
       "      <th>4</th>\n",
       "      <td>27000</td>\n",
       "      <td>4</td>\n",
       "      <td>1895</td>\n",
       "      <td>0.393017</td>\n",
       "      <td>13.46</td>\n",
       "      <td>39</td>\n",
       "      <td>43</td>\n",
       "      <td>1</td>\n",
       "      <td>-87.543280</td>\n",
       "      <td>-67.425</td>\n",
       "      <td>383.28000</td>\n",
       "      <td>17828652613631594586</td>\n",
       "      <td>1.0</td>\n",
       "      <td>-3965530794151426912</td>\n",
       "    </tr>\n",
       "    <tr>\n",
       "      <th>...</th>\n",
       "      <td>...</td>\n",
       "      <td>...</td>\n",
       "      <td>...</td>\n",
       "      <td>...</td>\n",
       "      <td>...</td>\n",
       "      <td>...</td>\n",
       "      <td>...</td>\n",
       "      <td>...</td>\n",
       "      <td>...</td>\n",
       "      <td>...</td>\n",
       "      <td>...</td>\n",
       "      <td>...</td>\n",
       "      <td>...</td>\n",
       "      <td>...</td>\n",
       "    </tr>\n",
       "    <tr>\n",
       "      <th>1890</th>\n",
       "      <td>27000</td>\n",
       "      <td>1890</td>\n",
       "      <td>1895</td>\n",
       "      <td>0.001650</td>\n",
       "      <td>29.24</td>\n",
       "      <td>65</td>\n",
       "      <td>54</td>\n",
       "      <td>1</td>\n",
       "      <td>22.629840</td>\n",
       "      <td>-2.575</td>\n",
       "      <td>375.28000</td>\n",
       "      <td>12544480375981618535</td>\n",
       "      <td>1.0</td>\n",
       "      <td>-1052490910097309665</td>\n",
       "    </tr>\n",
       "    <tr>\n",
       "      <th>1891</th>\n",
       "      <td>27000</td>\n",
       "      <td>1891</td>\n",
       "      <td>1895</td>\n",
       "      <td>0.001650</td>\n",
       "      <td>21.49</td>\n",
       "      <td>63</td>\n",
       "      <td>64</td>\n",
       "      <td>0</td>\n",
       "      <td>12.629840</td>\n",
       "      <td>47.425</td>\n",
       "      <td>363.28000</td>\n",
       "      <td>12544480375981618535</td>\n",
       "      <td>1.0</td>\n",
       "      <td>8795265319944163564</td>\n",
       "    </tr>\n",
       "    <tr>\n",
       "      <th>1892</th>\n",
       "      <td>27000</td>\n",
       "      <td>1892</td>\n",
       "      <td>1895</td>\n",
       "      <td>0.001650</td>\n",
       "      <td>76.07</td>\n",
       "      <td>57</td>\n",
       "      <td>51</td>\n",
       "      <td>6</td>\n",
       "      <td>-17.370160</td>\n",
       "      <td>-27.425</td>\n",
       "      <td>471.27997</td>\n",
       "      <td>12544480375981618535</td>\n",
       "      <td>1.0</td>\n",
       "      <td>-5858943092489343794</td>\n",
       "    </tr>\n",
       "    <tr>\n",
       "      <th>1893</th>\n",
       "      <td>27000</td>\n",
       "      <td>1893</td>\n",
       "      <td>1895</td>\n",
       "      <td>0.001650</td>\n",
       "      <td>41.33</td>\n",
       "      <td>53</td>\n",
       "      <td>62</td>\n",
       "      <td>2</td>\n",
       "      <td>-37.370160</td>\n",
       "      <td>37.425</td>\n",
       "      <td>409.28000</td>\n",
       "      <td>12544480375981618535</td>\n",
       "      <td>1.0</td>\n",
       "      <td>-2881660248844868567</td>\n",
       "    </tr>\n",
       "    <tr>\n",
       "      <th>1894</th>\n",
       "      <td>27000</td>\n",
       "      <td>1894</td>\n",
       "      <td>1895</td>\n",
       "      <td>0.001650</td>\n",
       "      <td>36.91</td>\n",
       "      <td>40</td>\n",
       "      <td>68</td>\n",
       "      <td>1</td>\n",
       "      <td>-72.629840</td>\n",
       "      <td>67.425</td>\n",
       "      <td>373.28000</td>\n",
       "      <td>12544480375981618535</td>\n",
       "      <td>1.0</td>\n",
       "      <td>-2326073162940112744</td>\n",
       "    </tr>\n",
       "  </tbody>\n",
       "</table>\n",
       "<p>1895 rows × 14 columns</p>\n",
       "</div>"
      ],
      "text/plain": [
       "      event  hit_number     N         E      T  ix  iy  iz        posx  \\\n",
       "0     27000           0  1895  0.261049  17.51  82  60   0  117.543274   \n",
       "1     27000           1  1895  1.218229  12.57  38  42   0  -82.629840   \n",
       "2     27000           2  1895  0.983161  12.61  38  43   0  -82.629840   \n",
       "3     27000           3  1895  0.404564  12.57  45  42   0  -77.370160   \n",
       "4     27000           4  1895  0.393017  13.46  39  43   1  -87.543280   \n",
       "...     ...         ...   ...       ...    ...  ..  ..  ..         ...   \n",
       "1890  27000        1890  1895  0.001650  29.24  65  54   1   22.629840   \n",
       "1891  27000        1891  1895  0.001650  21.49  63  64   0   12.629840   \n",
       "1892  27000        1892  1895  0.001650  76.07  57  51   6  -17.370160   \n",
       "1893  27000        1893  1895  0.001650  41.33  53  62   2  -37.370160   \n",
       "1894  27000        1894  1895  0.001650  36.91  40  68   1  -72.629840   \n",
       "\n",
       "        posy       posz             clusterID  Efrac             uniqueID  \n",
       "0     27.425  365.28000  11509158343811193875    1.0 -6937585729898357741  \n",
       "1    -62.575  363.28000  17828652613631594586    1.0  -618091460077957030  \n",
       "2    -67.425  365.28000  17828652613631594586    1.0  5343361554445887269  \n",
       "3    -62.575  361.28000  17828652613631594586    1.0 -7175626205880516806  \n",
       "4    -67.425  383.28000  17828652613631594586    1.0 -3965530794151426912  \n",
       "...      ...        ...                   ...    ...                  ...  \n",
       "1890  -2.575  375.28000  12544480375981618535    1.0 -1052490910097309665  \n",
       "1891  47.425  363.28000  12544480375981618535    1.0  8795265319944163564  \n",
       "1892 -27.425  471.27997  12544480375981618535    1.0 -5858943092489343794  \n",
       "1893  37.425  409.28000  12544480375981618535    1.0 -2881660248844868567  \n",
       "1894  67.425  373.28000  12544480375981618535    1.0 -2326073162940112744  \n",
       "\n",
       "[1895 rows x 14 columns]"
      ]
     },
     "execution_count": 4,
     "metadata": {},
     "output_type": "execute_result"
    }
   ],
   "source": [
    "event"
   ]
  },
  {
   "cell_type": "code",
   "execution_count": 5,
   "metadata": {},
   "outputs": [],
   "source": [
    "# Sorted event.E - get first 40\n",
    "high_energy_hits = event.sort_values(by=\"E\", ascending=False).iloc[:40]"
   ]
  },
  {
   "cell_type": "code",
   "execution_count": 16,
   "id": "5f6ff51c",
   "metadata": {},
   "outputs": [],
   "source": [
    "# use torch meshgrid to get all pairs between high_energy_hits.hit_number and event.hit_number\n",
    "pairs = torch.meshgrid(torch.from_numpy(high_energy_hits.hit_number.values), torch.from_numpy(event.hit_number.values))\n",
    "# convert into a 2 x N array\n",
    "pairs = torch.stack(pairs).reshape(2, -1).T"
   ]
  },
  {
   "cell_type": "code",
   "execution_count": 17,
   "id": "30bfe7fd",
   "metadata": {},
   "outputs": [
    {
     "data": {
      "text/plain": [
       "tensor([[ 609,    0],\n",
       "        [ 609,    1],\n",
       "        [ 609,    2],\n",
       "        ...,\n",
       "        [1373, 1892],\n",
       "        [1373, 1893],\n",
       "        [1373, 1894]])"
      ]
     },
     "execution_count": 17,
     "metadata": {},
     "output_type": "execute_result"
    }
   ],
   "source": [
    "pairs"
   ]
  },
  {
   "cell_type": "code",
   "execution_count": 18,
   "metadata": {},
   "outputs": [
    {
     "data": {
      "text/plain": [
       "torch.Size([75800, 2])"
      ]
     },
     "execution_count": 18,
     "metadata": {},
     "output_type": "execute_result"
    }
   ],
   "source": [
    "pairs.shape"
   ]
  },
  {
   "cell_type": "code",
   "execution_count": null,
   "metadata": {},
   "outputs": [],
   "source": []
  },
  {
   "cell_type": "code",
   "execution_count": null,
   "metadata": {},
   "outputs": [],
   "source": []
  },
  {
   "cell_type": "code",
   "execution_count": null,
   "id": "2d5caf4e",
   "metadata": {},
   "outputs": [],
   "source": []
  },
  {
   "cell_type": "code",
   "execution_count": null,
   "id": "bc5cd2cc",
   "metadata": {},
   "outputs": [],
   "source": [
    "class EventDataset(Dataset):\n",
    "    \"\"\"\n",
    "    The custom default dataset to load CSV events off the disk\n",
    "    \"\"\"\n",
    "\n",
    "    def __init__(self, input_dir, num_events = None, hparams=None, transform=None, pre_transform=None, pre_filter=None, **kwargs):\n",
    "        super().__init__(input_dir, transform, pre_transform, pre_filter)\n",
    "        \n",
    "        self.input_dir = input_dir\n",
    "        self.hparams = hparams\n",
    "        self.num_events = num_events\n",
    "        self.scales = {\n",
    "                    \"E\": 30.,\n",
    "                    \"T\": 100.,\n",
    "                    \"posx\": 200.,\n",
    "                    \"posy\": 200.,\n",
    "                    \"posz\": 500.,\n",
    "                }\n",
    "        \n",
    "        self.csv_events = self.load_datafiles_in_dir(self.input_dir, self.num_events)\n",
    "\n",
    "        print(\"Converting to PyG data objects\")\n",
    "        self.pyg_events = [self.convert_to_pyg(event[1]) for event in tqdm(self.csv_events)]\n",
    "        \n",
    "    def load_datafiles_in_dir(self, input_dir, num_events):\n",
    "\n",
    "        # Each file is 1000 events, so need to load num_events//1000 + 1 files\n",
    "        csv_files = [os.path.join(input_dir, f) for f in os.listdir(input_dir) if f.endswith('.csv')][:num_events//1000 + 1]\n",
    "        events = pd.concat([pd.read_csv(f) for f in csv_files])\n",
    "        if num_events is not None:\n",
    "            events = events[events.entry < num_events]\n",
    "\n",
    "        self.scale_features(events)\n",
    "\n",
    "        return list(events.groupby('entry'))\n",
    "\n",
    "    def convert_to_pyg(self, event):\n",
    "\n",
    "        # Convert to PyG data object\n",
    "        event = event.reset_index(drop=True)\n",
    "        event = event.drop(columns=['entry'])\n",
    "\n",
    "        data.edge_index = self.create_training_pairs(event)\n",
    "        y = event.clusterID[data.edge_index[0]] == event.clusterID[data.edge_index[1]]\n",
    "        node_features = torch.from_numpy(event[['posx', 'posy', 'posz', 'E']].to_numpy())\n",
    "        edge_features = torch.cat([node_features[data.edge_index[0]], node_features[data.edge_index[1]]], dim=1)\n",
    "\n",
    "        data = Data(\n",
    "                        x = edge_features,\n",
    "                        y = y\n",
    "                    )\n",
    "\n",
    "        data.num_nodes = data.x.shape[0]\n",
    "\n",
    "        return data\n",
    "        \n",
    "    def len(self):\n",
    "        return len(self.pyg_events)\n",
    "\n",
    "    def get(self, idx):\n",
    "\n",
    "        return self.pyg_events[idx]\n",
    "\n",
    "    def scale_features(self, event):\n",
    "        \"\"\"\n",
    "        Handle feature scaling for the event\n",
    "        \"\"\"\n",
    "\n",
    "        for feature in self.scales.keys():\n",
    "            event[feature] = event[feature]/self.scales[feature]\n",
    "\n",
    "        return event\n",
    "\n",
    "    def create_training_pairs(self, event):\n",
    "        \"\"\"\n",
    "        Create the true edge list for the event. This is \n",
    "        \"\"\"\n",
    "\n",
    "        # Sorted event.E - get first 40\n",
    "        high_energy_hits = event.sort_values(by=\"E\", ascending=False).iloc[:40]\n",
    "\n",
    "        # use torch meshgrid to get all pairs between high_energy_hits.hit_number and event.hit_number\n",
    "        pairs = torch.meshgrid(torch.from_numpy(high_energy_hits.hit_number.values), torch.from_numpy(event.hit_number.values))\n",
    "        # convert into a 2 x N array\n",
    "        pairs = torch.stack(pairs).reshape(2, -1)\n",
    "\n",
    "        return pairs"
   ]
  },
  {
   "cell_type": "code",
   "execution_count": 10,
   "id": "4629039b",
   "metadata": {},
   "outputs": [
    {
     "name": "stdout",
     "output_type": "stream",
     "text": [
      "Converting to PyG data objects\n"
     ]
    },
    {
     "name": "stderr",
     "output_type": "stream",
     "text": [
      "100%|██████████| 100/100 [00:08<00:00, 11.81it/s]\n"
     ]
    }
   ],
   "source": [
    "dataset = EventDataset(input_dir, num_events=100)"
   ]
  },
  {
   "cell_type": "code",
   "execution_count": 12,
   "id": "c1ca1815",
   "metadata": {},
   "outputs": [],
   "source": [
    "# Split dataset into train val and test\n",
    "from torch.utils.data import random_split\n",
    "\n",
    "train_size = int(0.8 * len(dataset))\n",
    "val_size = int(0.1 * len(dataset))\n",
    "test_size = len(dataset) - train_size - val_size\n",
    "\n",
    "train_dataset, val_dataset, test_dataset = random_split(dataset, [train_size, val_size, test_size])"
   ]
  },
  {
   "attachments": {},
   "cell_type": "markdown",
   "id": "8c6ab1ee",
   "metadata": {},
   "source": [
    "## 3. Training Loop Test"
   ]
  },
  {
   "cell_type": "code",
   "execution_count": 2,
   "id": "eeae4c2c",
   "metadata": {},
   "outputs": [
    {
     "name": "stdout",
     "output_type": "stream",
     "text": [
      "Converting to PyG data objects\n"
     ]
    },
    {
     "name": "stderr",
     "output_type": "stream",
     "text": [
      "100%|██████████| 220/220 [00:16<00:00, 13.49it/s]"
     ]
    },
    {
     "name": "stdout",
     "output_type": "stream",
     "text": [
      "Loaded 200 training events, 10 validation events and 10 testing events\n"
     ]
    },
    {
     "name": "stderr",
     "output_type": "stream",
     "text": [
      "\n"
     ]
    }
   ],
   "source": [
    "with open(\"metric_learning_config.yaml\", \"r\") as f:\n",
    "    metric_learning_config = yaml.safe_load(f)\n",
    "model = MetricLearning(metric_learning_config)\n",
    "model.setup(stage=\"fit\")"
   ]
  },
  {
   "cell_type": "code",
   "execution_count": 3,
   "id": "6cbd53e3",
   "metadata": {},
   "outputs": [
    {
     "name": "stderr",
     "output_type": "stream",
     "text": [
      "Failed to detect the name of this notebook, you can set it manually with the WANDB_NOTEBOOK_NAME environment variable to enable code saving.\n",
      "\u001b[34m\u001b[1mwandb\u001b[0m: Currently logged in as: \u001b[33mmurnanedaniel\u001b[0m. Use \u001b[1m`wandb login --relogin`\u001b[0m to force relogin\n"
     ]
    },
    {
     "data": {
      "text/html": [
       "Tracking run with wandb version 0.15.5"
      ],
      "text/plain": [
       "<IPython.core.display.HTML object>"
      ]
     },
     "metadata": {},
     "output_type": "display_data"
    },
    {
     "data": {
      "text/html": [
       "Run data is saved locally in <code>./wandb/run-20230718_140104-4zaqk6tl</code>"
      ],
      "text/plain": [
       "<IPython.core.display.HTML object>"
      ]
     },
     "metadata": {},
     "output_type": "display_data"
    },
    {
     "data": {
      "text/html": [
       "Syncing run <strong><a href='https://wandb.ai/murnanedaniel/PowerWeek_MetricLearning/runs/4zaqk6tl' target=\"_blank\">hardy-snow-54</a></strong> to <a href='https://wandb.ai/murnanedaniel/PowerWeek_MetricLearning' target=\"_blank\">Weights & Biases</a> (<a href='https://wandb.me/run' target=\"_blank\">docs</a>)<br/>"
      ],
      "text/plain": [
       "<IPython.core.display.HTML object>"
      ]
     },
     "metadata": {},
     "output_type": "display_data"
    },
    {
     "data": {
      "text/html": [
       " View project at <a href='https://wandb.ai/murnanedaniel/PowerWeek_MetricLearning' target=\"_blank\">https://wandb.ai/murnanedaniel/PowerWeek_MetricLearning</a>"
      ],
      "text/plain": [
       "<IPython.core.display.HTML object>"
      ]
     },
     "metadata": {},
     "output_type": "display_data"
    },
    {
     "data": {
      "text/html": [
       " View run at <a href='https://wandb.ai/murnanedaniel/PowerWeek_MetricLearning/runs/4zaqk6tl' target=\"_blank\">https://wandb.ai/murnanedaniel/PowerWeek_MetricLearning/runs/4zaqk6tl</a>"
      ],
      "text/plain": [
       "<IPython.core.display.HTML object>"
      ]
     },
     "metadata": {},
     "output_type": "display_data"
    },
    {
     "name": "stderr",
     "output_type": "stream",
     "text": [
      "/global/homes/d/danieltm/.conda/envs/powerweek/lib/python3.11/site-packages/lightning/fabric/plugins/environments/slurm.py:165: PossibleUserWarning: The `srun` command is available on your system but is not used. HINT: If your intention is to run Lightning on SLURM, prepend your python command with `srun` like so: srun python /global/homes/d/danieltm/.conda/envs/powerweek/lib/p ...\n",
      "  rank_zero_warn(\n",
      "GPU available: True (cuda), used: True\n",
      "TPU available: False, using: 0 TPU cores\n",
      "IPU available: False, using: 0 IPUs\n",
      "HPU available: False, using: 0 HPUs\n",
      "/global/homes/d/danieltm/.conda/envs/powerweek/lib/python3.11/site-packages/lightning/fabric/plugins/environments/slurm.py:165: PossibleUserWarning: The `srun` command is available on your system but is not used. HINT: If your intention is to run Lightning on SLURM, prepend your python command with `srun` like so: srun python /global/homes/d/danieltm/.conda/envs/powerweek/lib/p ...\n",
      "  rank_zero_warn(\n",
      "You are using a CUDA device ('NVIDIA A100-PCIE-40GB') that has Tensor Cores. To properly utilize them, you should set `torch.set_float32_matmul_precision('medium' | 'high')` which will trade-off precision for performance. For more details, read https://pytorch.org/docs/stable/generated/torch.set_float32_matmul_precision.html#torch.set_float32_matmul_precision\n",
      "LOCAL_RANK: 0 - CUDA_VISIBLE_DEVICES: [0]\n",
      "\n",
      "  | Name    | Type       | Params\n",
      "---------------------------------------\n",
      "0 | network | Sequential | 797 K \n",
      "---------------------------------------\n",
      "797 K     Trainable params\n",
      "0         Non-trainable params\n",
      "797 K     Total params\n",
      "3.189     Total estimated model params size (MB)\n"
     ]
    },
    {
     "name": "stdout",
     "output_type": "stream",
     "text": [
      "Sanity Checking: 0it [00:00, ?it/s]"
     ]
    },
    {
     "name": "stderr",
     "output_type": "stream",
     "text": [
      "/global/homes/d/danieltm/.conda/envs/powerweek/lib/python3.11/site-packages/torch_geometric/deprecation.py:22: UserWarning: 'data.DataLoader' is deprecated, use 'loader.DataLoader' instead\n",
      "  warnings.warn(out)\n",
      "/global/homes/d/danieltm/.conda/envs/powerweek/lib/python3.11/site-packages/lightning/pytorch/trainer/connectors/data_connector.py:432: PossibleUserWarning: The dataloader, val_dataloader, does not have many workers which may be a bottleneck. Consider increasing the value of the `num_workers` argument` (try 256 which is the number of cpus on this machine) in the `DataLoader` init to improve performance.\n",
      "  rank_zero_warn(\n"
     ]
    },
    {
     "name": "stdout",
     "output_type": "stream",
     "text": [
      "Sanity Checking DataLoader 0:   0%|          | 0/2 [00:00<?, ?it/s]"
     ]
    },
    {
     "name": "stderr",
     "output_type": "stream",
     "text": [
      "/global/homes/d/danieltm/.conda/envs/powerweek/lib/python3.11/site-packages/lightning/pytorch/trainer/connectors/logger_connector/result.py:212: UserWarning: You called `self.log('all_positive', ...)` in your `validation_step` but the value needs to be floating point. Converting it to torch.float32.\n",
      "  warning_cache.warn(\n",
      "/global/homes/d/danieltm/.conda/envs/powerweek/lib/python3.11/site-packages/lightning/pytorch/trainer/connectors/logger_connector/result.py:212: UserWarning: You called `self.log('all_true', ...)` in your `validation_step` but the value needs to be floating point. Converting it to torch.float32.\n",
      "  warning_cache.warn(\n",
      "/global/homes/d/danieltm/.conda/envs/powerweek/lib/python3.11/site-packages/lightning/pytorch/trainer/connectors/logger_connector/result.py:212: UserWarning: You called `self.log('true_positive', ...)` in your `validation_step` but the value needs to be floating point. Converting it to torch.float32.\n",
      "  warning_cache.warn(\n"
     ]
    },
    {
     "name": "stdout",
     "output_type": "stream",
     "text": [
      "Best clustering score: 0.5082495566772185 at eps: 0.2\n",
      "Sanity Checking DataLoader 0:  50%|█████     | 1/2 [00:01<00:01,  1.96s/it]Best clustering score: 1.0 at eps: 0.001\n",
      "                                                                           \r"
     ]
    },
    {
     "name": "stderr",
     "output_type": "stream",
     "text": [
      "/global/homes/d/danieltm/.conda/envs/powerweek/lib/python3.11/site-packages/torch_geometric/deprecation.py:22: UserWarning: 'data.DataLoader' is deprecated, use 'loader.DataLoader' instead\n",
      "  warnings.warn(out)\n",
      "/global/homes/d/danieltm/.conda/envs/powerweek/lib/python3.11/site-packages/lightning/pytorch/trainer/connectors/data_connector.py:432: PossibleUserWarning: The dataloader, train_dataloader, does not have many workers which may be a bottleneck. Consider increasing the value of the `num_workers` argument` (try 256 which is the number of cpus on this machine) in the `DataLoader` init to improve performance.\n",
      "  rank_zero_warn(\n"
     ]
    },
    {
     "name": "stdout",
     "output_type": "stream",
     "text": [
      "Epoch 0: 100%|██████████| 200/200 [00:02<00:00, 72.10it/s, v_num=k6tl]Best clustering score: 0.6580497561951528 at eps: 0.06733333333333334\n",
      "Best clustering score: 1.0 at eps: 0.001\n",
      "Best clustering score: 0.5402521409899165 at eps: 0.08944444444444445\n",
      "Best clustering score: 0 at eps: 0\n"
     ]
    },
    {
     "name": "stderr",
     "output_type": "stream",
     "text": [
      "/global/homes/d/danieltm/.conda/envs/powerweek/lib/python3.11/site-packages/lightning/pytorch/trainer/connectors/logger_connector/result.py:212: UserWarning: You called `self.log('best_clustering_score', ...)` in your `validation_step` but the value needs to be floating point. Converting it to torch.float32.\n",
      "  warning_cache.warn(\n",
      "/global/homes/d/danieltm/.conda/envs/powerweek/lib/python3.11/site-packages/lightning/pytorch/trainer/connectors/logger_connector/result.py:212: UserWarning: You called `self.log('best_clustering_eps', ...)` in your `validation_step` but the value needs to be floating point. Converting it to torch.float32.\n",
      "  warning_cache.warn(\n"
     ]
    },
    {
     "name": "stdout",
     "output_type": "stream",
     "text": [
      "Best clustering score: 0.6350990444595206 at eps: 0.08944444444444445\n",
      "Best clustering score: 0.6767770394602192 at eps: 0.06733333333333334\n",
      "Best clustering score: 1.0 at eps: 0.001\n",
      "Best clustering score: 0.7063622293695647 at eps: 0.06733333333333334\n",
      "Best clustering score: 0.6256282932074423 at eps: 0.06733333333333334\n",
      "Best clustering score: 0.5178324455021855 at eps: 0.11155555555555556\n",
      "Epoch 10: 100%|██████████| 200/200 [00:02<00:00, 72.44it/s, v_num=k6tl]Best clustering score: 0.6642721684085594 at eps: 0.06733333333333334\n",
      "Best clustering score: 1.0 at eps: 0.001\n",
      "Best clustering score: 0.6062086529657457 at eps: 0.08944444444444445\n",
      "Best clustering score: 0 at eps: 0\n",
      "Best clustering score: 0.6195682552953241 at eps: 0.11155555555555556\n",
      "Best clustering score: 0.6260316480123889 at eps: 0.045222222222222226\n",
      "Best clustering score: 1.0 at eps: 0.001\n",
      "Best clustering score: 0.6306677179887805 at eps: 0.06733333333333334\n",
      "Best clustering score: 0.6250426346575487 at eps: 0.06733333333333334\n",
      "Best clustering score: 0.5160266602924614 at eps: 0.08944444444444445\n",
      "Epoch 20: 100%|██████████| 200/200 [00:02<00:00, 69.61it/s, v_num=k6tl]Best clustering score: 0.6788168033208942 at eps: 0.06733333333333334\n",
      "Best clustering score: 1.0 at eps: 0.001\n",
      "Best clustering score: 0.6050794845898417 at eps: 0.08944444444444445\n",
      "Best clustering score: 0 at eps: 0\n",
      "Best clustering score: 0.6271972130926547 at eps: 0.08944444444444445\n",
      "Best clustering score: 0.6242370865778989 at eps: 0.045222222222222226\n",
      "Best clustering score: 1.0 at eps: 0.001\n",
      "Best clustering score: 0.6341668376874395 at eps: 0.06733333333333334\n",
      "Best clustering score: 0.6089743862299709 at eps: 0.06733333333333334\n",
      "Best clustering score: 0.5135105551141728 at eps: 0.08944444444444445\n",
      "Epoch 30: 100%|██████████| 200/200 [00:02<00:00, 71.31it/s, v_num=k6tl]Best clustering score: 0.6765080152491333 at eps: 0.06733333333333334\n",
      "Best clustering score: 1.0 at eps: 0.001\n",
      "Best clustering score: 0.5871930162799629 at eps: 0.08944444444444445\n",
      "Best clustering score: 0 at eps: 0\n",
      "Best clustering score: 0.6274540752615978 at eps: 0.08944444444444445\n",
      "Best clustering score: 0.6265546331084916 at eps: 0.045222222222222226\n",
      "Best clustering score: 1.0 at eps: 0.001\n",
      "Best clustering score: 0.6356937977328105 at eps: 0.06733333333333334\n",
      "Best clustering score: 0.6024214699316807 at eps: 0.06733333333333334\n",
      "Best clustering score: 0.5160370915569289 at eps: 0.08944444444444445\n",
      "Epoch 40: 100%|██████████| 200/200 [00:02<00:00, 66.70it/s, v_num=k6tl]Best clustering score: 0.6933281405372246 at eps: 0.06733333333333334\n",
      "Best clustering score: 1.0 at eps: 0.001\n",
      "Best clustering score: 0.5798696746772213 at eps: 0.06733333333333334\n",
      "Best clustering score: 0 at eps: 0\n",
      "Best clustering score: 0.6227179900068991 at eps: 0.08944444444444445\n",
      "Best clustering score: 0.6510451570188563 at eps: 0.045222222222222226\n",
      "Best clustering score: 1.0 at eps: 0.001\n",
      "Best clustering score: 0.6408136487548518 at eps: 0.06733333333333334\n",
      "Best clustering score: 0.5832142742730438 at eps: 0.06733333333333334\n",
      "Best clustering score: 0.5360285894266025 at eps: 0.045222222222222226\n",
      "Epoch 50: 100%|██████████| 200/200 [00:02<00:00, 72.83it/s, v_num=k6tl]Best clustering score: 0.6968001490497928 at eps: 0.06733333333333334\n",
      "Best clustering score: 1.0 at eps: 0.001\n",
      "Best clustering score: 0.5316592954512822 at eps: 0.06733333333333334\n",
      "Best clustering score: 0 at eps: 0\n",
      "Best clustering score: 0.6051448419166516 at eps: 0.08944444444444445\n",
      "Best clustering score: 0.6596022064731213 at eps: 0.045222222222222226\n",
      "Best clustering score: 1.0 at eps: 0.001\n",
      "Best clustering score: 0.634250108418368 at eps: 0.045222222222222226\n",
      "Best clustering score: 0.5997591673728366 at eps: 0.045222222222222226\n",
      "Best clustering score: 0.5398638792946392 at eps: 0.045222222222222226\n",
      "Epoch 60: 100%|██████████| 200/200 [00:02<00:00, 71.55it/s, v_num=k6tl]Best clustering score: 0.6940599837818503 at eps: 0.06733333333333334\n",
      "Best clustering score: 1.0 at eps: 0.001\n",
      "Best clustering score: 0.5345714469391816 at eps: 0.06733333333333334\n",
      "Best clustering score: 0 at eps: 0\n",
      "Best clustering score: 0.5996751107794315 at eps: 0.08944444444444445\n",
      "Best clustering score: 0.6721402395333255 at eps: 0.045222222222222226\n",
      "Best clustering score: 1.0 at eps: 0.001\n",
      "Best clustering score: 0.6360502695929388 at eps: 0.045222222222222226\n",
      "Best clustering score: 0.623924525257577 at eps: 0.045222222222222226\n",
      "Best clustering score: 0.5487687304700276 at eps: 0.045222222222222226\n",
      "Epoch 70: 100%|██████████| 200/200 [00:02<00:00, 69.26it/s, v_num=k6tl]Best clustering score: 0.685783635136137 at eps: 0.06733333333333334\n",
      "Best clustering score: 1.0 at eps: 0.001\n",
      "Best clustering score: 0.5354587908859613 at eps: 0.06733333333333334\n",
      "Best clustering score: 0 at eps: 0\n",
      "Best clustering score: 0.60242843144235 at eps: 0.08944444444444445\n",
      "Best clustering score: 0.6803300807796768 at eps: 0.045222222222222226\n",
      "Best clustering score: 1.0 at eps: 0.001\n",
      "Best clustering score: 0.634620440531122 at eps: 0.045222222222222226\n",
      "Best clustering score: 0.6296959279733227 at eps: 0.045222222222222226\n",
      "Best clustering score: 0.554871352316041 at eps: 0.045222222222222226\n",
      "Epoch 80: 100%|██████████| 200/200 [00:02<00:00, 70.20it/s, v_num=k6tl]Best clustering score: 0.6963613831181474 at eps: 0.06733333333333334\n",
      "Best clustering score: 1.0 at eps: 0.001\n",
      "Best clustering score: 0.5268854954834284 at eps: 0.06733333333333334\n",
      "Best clustering score: 0 at eps: 0\n",
      "Best clustering score: 0.6107509959255033 at eps: 0.08944444444444445\n",
      "Best clustering score: 0.6805963790519882 at eps: 0.045222222222222226\n",
      "Best clustering score: 1.0 at eps: 0.001\n",
      "Best clustering score: 0.6322735655744041 at eps: 0.045222222222222226\n",
      "Best clustering score: 0.6284708943133209 at eps: 0.045222222222222226\n",
      "Best clustering score: 0.5510298858003854 at eps: 0.045222222222222226\n",
      "Epoch 90: 100%|██████████| 200/200 [00:03<00:00, 64.54it/s, v_num=k6tl]Best clustering score: 0.6826420288017151 at eps: 0.06733333333333334\n",
      "Best clustering score: 1.0 at eps: 0.001\n",
      "Best clustering score: 0.5220414011239082 at eps: 0.06733333333333334\n",
      "Best clustering score: 0 at eps: 0\n",
      "Best clustering score: 0.6210237479272596 at eps: 0.08944444444444445\n",
      "Best clustering score: 0.6747765230764898 at eps: 0.045222222222222226\n",
      "Best clustering score: 1.0 at eps: 0.001\n",
      "Best clustering score: 0.6238761745630432 at eps: 0.045222222222222226\n",
      "Best clustering score: 0.6040518489959726 at eps: 0.045222222222222226\n",
      "Best clustering score: 0.5149319433696845 at eps: 0.08944444444444445\n",
      "Epoch 99: 100%|██████████| 200/200 [00:03<00:00, 62.61it/s, v_num=k6tl]"
     ]
    },
    {
     "name": "stderr",
     "output_type": "stream",
     "text": [
      "`Trainer.fit` stopped: `max_epochs=100` reached.\n"
     ]
    },
    {
     "name": "stdout",
     "output_type": "stream",
     "text": [
      "Epoch 99: 100%|██████████| 200/200 [00:03<00:00, 62.09it/s, v_num=k6tl]\n"
     ]
    }
   ],
   "source": [
    "logger = WandbLogger(project=metric_learning_config[\"project\"])\n",
    "trainer = pl.Trainer(devices=1, accelerator=\"gpu\", max_epochs=100, logger=logger)\n",
    "trainer.fit(model)"
   ]
  },
  {
   "cell_type": "code",
   "execution_count": 4,
   "id": "524e8933",
   "metadata": {},
   "outputs": [],
   "source": [
    "event = model.trainset[0]\n",
    "true_edges = torch.cat([event.edge_index, event.edge_index.flip(0)], axis=1)"
   ]
  },
  {
   "cell_type": "code",
   "execution_count": 11,
   "id": "55c580fc",
   "metadata": {},
   "outputs": [],
   "source": [
    "embedding = model.cuda()(event.x.cuda()).cpu().detach()\n",
    "# pca embedding\n",
    "from sklearn.decomposition import PCA\n",
    "pca = PCA(n_components=2)\n",
    "pca_embedding = pca.fit_transform(embedding)"
   ]
  },
  {
   "cell_type": "code",
   "execution_count": 13,
   "id": "d1e6505d",
   "metadata": {},
   "outputs": [
    {
     "data": {
      "image/png": "[encoded data removed]",
      "text/plain": [
       "<Figure size 640x480 with 1 Axes>"
      ]
     },
     "metadata": {},
     "output_type": "display_data"
    }
   ],
   "source": [
    "# Plot the embedding\n",
    "for pid in event.pid.unique():\n",
    "    plt.scatter(pca_embedding[event.pid == pid, 0], pca_embedding[event.pid == pid, 1], s=event[event.pid == pid, 3])"
   ]
  },
  {
   "attachments": {},
   "cell_type": "markdown",
   "id": "f618c608",
   "metadata": {},
   "source": [
    "## Debug evaluation"
   ]
  },
  {
   "cell_type": "code",
   "execution_count": 3,
   "id": "207501e4",
   "metadata": {},
   "outputs": [],
   "source": [
    "event = model.trainset[0]\n",
    "true_edges = torch.cat([event.edge_index, event.edge_index.flip(0)], axis=1)"
   ]
  },
  {
   "cell_type": "code",
   "execution_count": 19,
   "id": "8f52fc53",
   "metadata": {},
   "outputs": [
    {
     "name": "stdout",
     "output_type": "stream",
     "text": [
      "Radius: 0.1, eff: 0.25250609849062355, pur: 0.7651962152640749, f1: 0.379711647079334\n",
      "Radius: 0.17777777777777778, eff: 0.5427958403211872, pur: 0.7274215175055869, f1: 0.6216910380404433\n",
      "Radius: 0.25555555555555554, eff: 0.6414135157798445, pur: 0.6977196164809536, f1: 0.6683828238646801\n",
      "Radius: 0.33333333333333337, eff: 0.664260621537836, pur: 0.6753639522566978, f1: 0.669766272530457\n",
      "Radius: 0.4111111111111111, eff: 0.6603728337653098, pur: 0.652969599703519, f1: 0.6566503509368976\n",
      "Radius: 0.48888888888888893, eff: 0.6433987015297047, pur: 0.6233910317862106, f1: 0.6332368661476768\n",
      "Radius: 0.5666666666666667, eff: 0.6304568785892158, pur: 0.6055432676907119, f1: 0.6177489857878021\n",
      "Radius: 0.6444444444444445, eff: 0.623891472277278, pur: 0.5969698811658511, f1: 0.6101338485576101\n",
      "Radius: 0.7222222222222222, eff: 0.6180184987548915, pur: 0.5883667449353414, f1: 0.6028282164824125\n",
      "Radius: 0.8, eff: 0.6127934898612594, pur: 0.5784908868202596, f1: 0.5951483228127543\n"
     ]
    }
   ],
   "source": [
    "for r in np.linspace(0.1, 0.8, 10):\n",
    "    model.hparams[\"radius\"] = r\n",
    "    # Instantiate empty prediction edge list\n",
    "    pred_edges = torch.empty([2, 0], dtype=torch.int64)\n",
    "\n",
    "    # Append Hard Negative Mining (hnm) with KNN graph\n",
    "    pred_edges = model.append_hnm_pairs(pred_edges, event.x[:, :2])\n",
    "\n",
    "    truth = event.pid[pred_edges[0]] == event.pid[pred_edges[1]]\n",
    "\n",
    "    true_pred_edges = pred_edges[:, truth.bool()]\n",
    "\n",
    "    # Get totals\n",
    "    all_positive = pred_edges.shape[1]\n",
    "    all_true = true_edges.shape[1]\n",
    "    all_true_positive = true_pred_edges.shape[1]\n",
    "\n",
    "    # print(f\"all_positive: {all_positive}, all_true: {all_true}, all_true_positive: {all_true_positive}\")\n",
    "\n",
    "    # Calculate metrics\n",
    "    eff = all_true_positive / all_true \n",
    "    pur = all_true_positive / max(all_positive, 1)\n",
    "    f1 = 2 * eff * pur / max(eff + pur, 1e-5)\n",
    "\n",
    "    print(f\"Radius: {r}, eff: {eff}, pur: {pur}, f1: {f1}\")"
   ]
  },
  {
   "cell_type": "code",
   "execution_count": null,
   "id": "8b288098",
   "metadata": {},
   "outputs": [],
   "source": []
  },
  {
   "attachments": {},
   "cell_type": "markdown",
   "id": "624fe429",
   "metadata": {},
   "source": [
    "## 4. Evaluation Loop Test"
   ]
  },
  {
   "cell_type": "markdown",
   "id": "1ed066a0",
   "metadata": {},
   "source": []
  }
 ],
 "metadata": {
  "kernelspec": {
   "display_name": "PowerWeek",
   "language": "python",
   "name": "powerweek"
  },
  "language_info": {
   "codemirror_mode": {
    "name": "ipython",
    "version": 3
   },
   "file_extension": ".py",
   "mimetype": "text/x-python",
   "name": "python",
   "nbconvert_exporter": "python",
   "pygments_lexer": "ipython3",
   "version": "3.11.3"
  }
 },
 "nbformat": 4,
 "nbformat_minor": 5
}
